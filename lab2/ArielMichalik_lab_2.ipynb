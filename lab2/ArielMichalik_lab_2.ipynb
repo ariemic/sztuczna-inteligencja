{
  "cells": [
    {
      "cell_type": "markdown",
      "metadata": {
        "id": "x7qpMCp6KN21",
        "pycharm": {
          "name": "#%% md\n"
        }
      },
      "source": [
        "# Klasyfikacja niezbalansowana, klasyfikatory zespołowe i wyjaśnialna AI"
      ]
    },
    {
      "cell_type": "markdown",
      "metadata": {
        "id": "HhQKMWf1KN27",
        "pycharm": {
          "name": "#%% md\n"
        }
      },
      "source": [
        "## Wykorzystanie Google Colab\n",
        "\n",
        "Jeśli korzystasz z Google Colab skopiuj plik `feature_names.json` do katalogu głównego projektu.\n",
        "\n",
        "[![Open in Colab](https://colab.research.google.com/assets/colab-badge.svg)](https://colab.research.google.com/github/apohllo/sztuczna-inteligencja/blob/master/lab2/lab_2.ipynb)"
      ]
    },
    {
      "cell_type": "markdown",
      "metadata": {
        "editable": true,
        "id": "r2a9CUSVKN28",
        "pycharm": {
          "name": "#%% md\n"
        },
        "tags": []
      },
      "source": [
        "## Ładowanie i eksploracja danych"
      ]
    },
    {
      "cell_type": "markdown",
      "metadata": {
        "editable": true,
        "id": "RgmiIJgsKN28",
        "pycharm": {
          "name": "#%% md\n"
        },
        "tags": []
      },
      "source": [
        "W trakcie tych zajęć laboratoryjnych wykorzystamy zbiór danych [Polish companies bankruptcy](https://archive.ics.uci.edu/ml/datasets/Polish+companies+bankruptcy+data). Dotyczy on klasyfikacji, na podstawie danych z raportów finansowych, czy firma zbankrutuje w ciągu najbliższych kilku lat. Jest to zadanie szczególnie istotne dla banków, funduszy inwestycyjnych, firm ubezpieczeniowych itp. Zbiór zawiera 64 cechy obliczonych przez ekonomistów. Są one opisane na wspomnianej wcześniej stronie. Dotyczą one zysków firm, posiadanych zasobów, długów itp.\n",
        "\n",
        "Ściągnij i rozpakuj dane (`Data Folder` -> `data.zip`) do katalogu `data` obok tego notebooka. Znajduje się tam 5 plików w formacie `.arff`, wykorzystywanym głównie przez oprogramowanie Weka. Jest to program do wyposażony w graficzny interfejs użytkownika, który był często używany przez mniej techincznie obeznanych użytkowników. W Pythonie dane w tym formacie ładuje się  za pomocą bibliotek SciPy i Pandas.\n"
      ]
    },
    {
      "cell_type": "markdown",
      "metadata": {
        "id": "90z6RfwaKN29"
      },
      "source": [
        "Jeśli korzystasz z Linuksa możesz skorzystać z poniższych poleceń do pobrania i rozpakowania tych plików."
      ]
    },
    {
      "cell_type": "code",
      "execution_count": 11,
      "metadata": {
        "ExecuteTime": {
          "end_time": "2023-10-17T12:09:50.173669Z",
          "start_time": "2023-10-17T12:09:24.311939Z"
        },
        "colab": {
          "base_uri": "https://localhost:8080/"
        },
        "editable": true,
        "execution": {
          "iopub.execute_input": "2024-11-05T09:42:49.897014Z",
          "iopub.status.busy": "2024-11-05T09:42:49.895081Z",
          "iopub.status.idle": "2024-11-05T09:43:04.657799Z",
          "shell.execute_reply": "2024-11-05T09:43:04.654712Z",
          "shell.execute_reply.started": "2024-11-05T09:42:49.896924Z"
        },
        "id": "iKcMBBcgKN29",
        "outputId": "78780b38-7c6d-479b-cdec-733fb89a8f28",
        "tags": []
      },
      "outputs": [
        {
          "output_type": "stream",
          "name": "stdout",
          "text": [
            "--2024-11-05 12:53:37--  https://archive.ics.uci.edu/static/public/365/polish+companies+bankruptcy+data.zip\n",
            "Resolving archive.ics.uci.edu (archive.ics.uci.edu)... 128.195.10.252\n",
            "Connecting to archive.ics.uci.edu (archive.ics.uci.edu)|128.195.10.252|:443... connected.\n",
            "HTTP request sent, awaiting response... 200 OK\n",
            "Length: unspecified\n",
            "Saving to: ‘data/data.zip’\n",
            "\n",
            "data/data.zip           [   <=>              ]   8.42M  17.2MB/s    in 0.5s    \n",
            "\n",
            "2024-11-05 12:53:38 (17.2 MB/s) - ‘data/data.zip’ saved [8834471]\n",
            "\n"
          ]
        }
      ],
      "source": [
        "!mkdir -p data\n",
        "!wget https://archive.ics.uci.edu/static/public/365/polish+companies+bankruptcy+data.zip -O data/data.zip"
      ]
    },
    {
      "cell_type": "code",
      "execution_count": 12,
      "metadata": {
        "ExecuteTime": {
          "end_time": "2023-10-17T12:10:04.017260Z",
          "start_time": "2023-10-17T12:09:57.831756Z"
        },
        "colab": {
          "base_uri": "https://localhost:8080/"
        },
        "editable": true,
        "execution": {
          "iopub.execute_input": "2024-11-05T09:43:04.664454Z",
          "iopub.status.busy": "2024-11-05T09:43:04.662310Z",
          "iopub.status.idle": "2024-11-05T09:43:05.218990Z",
          "shell.execute_reply": "2024-11-05T09:43:05.215952Z",
          "shell.execute_reply.started": "2024-11-05T09:43:04.664335Z"
        },
        "id": "mMxdWgfTKN2_",
        "outputId": "a85c1146-d716-44ed-96e0-b4333d09e9ba",
        "tags": []
      },
      "outputs": [
        {
          "output_type": "stream",
          "name": "stdout",
          "text": [
            "Archive:  data/data.zip\n",
            "replace data/1year.arff? [y]es, [n]o, [A]ll, [N]one, [r]ename: A\n",
            "  inflating: data/1year.arff         \n",
            "  inflating: data/2year.arff         \n",
            "  inflating: data/3year.arff         \n",
            "  inflating: data/4year.arff         \n",
            "  inflating: data/5year.arff         \n"
          ]
        }
      ],
      "source": [
        "!unzip data/data.zip -d data"
      ]
    },
    {
      "cell_type": "markdown",
      "metadata": {
        "editable": true,
        "id": "9R1gIMNGKN3A",
        "tags": []
      },
      "source": [
        "\n",
        "W dalszej części laboratorium wykorzystamy plik `3year.arff`, w którym na podstawie danych finansowych firmy po 3 latach monitorowania chcemy przewidywać, czy firma zbankrutuje w ciągu najbliższych 3 lat. Jest to dość realistyczny horyzont czasowy.\n",
        "\n",
        "Dodatkowo w pliku `feature_names.json` znajdują się nazwy cech. Nazwy są bardzo długie, więc póki co nie będziemy z nich korzystać."
      ]
    },
    {
      "cell_type": "code",
      "execution_count": 13,
      "metadata": {
        "editable": true,
        "execution": {
          "iopub.execute_input": "2024-11-05T09:43:05.222914Z",
          "iopub.status.busy": "2024-11-05T09:43:05.222011Z",
          "iopub.status.idle": "2024-11-05T09:43:08.153352Z",
          "shell.execute_reply": "2024-11-05T09:43:08.152298Z",
          "shell.execute_reply.started": "2024-11-05T09:43:05.222824Z"
        },
        "id": "o5G4Rq4DKN3A",
        "pycharm": {
          "name": "#%%\n"
        },
        "tags": []
      },
      "outputs": [],
      "source": [
        "import json\n",
        "import os\n",
        "\n",
        "from scipy.io import arff\n",
        "import pandas as pd\n",
        "\n",
        "data = arff.loadarff(os.path.join(\"data\", \"3year.arff\"))\n",
        "\n",
        "with open(\"feature_names.json\") as file:\n",
        "    feature_names = json.load(file)\n",
        "\n",
        "X = pd.DataFrame(data[0])"
      ]
    },
    {
      "cell_type": "markdown",
      "metadata": {
        "id": "T5Bm7SdNKN3A",
        "pycharm": {
          "name": "#%% md\n"
        }
      },
      "source": [
        "Przyjrzyjmy się teraz naszym danym."
      ]
    },
    {
      "cell_type": "code",
      "execution_count": 14,
      "metadata": {
        "colab": {
          "base_uri": "https://localhost:8080/",
          "height": 256
        },
        "editable": true,
        "execution": {
          "iopub.execute_input": "2024-11-05T09:43:08.154352Z",
          "iopub.status.busy": "2024-11-05T09:43:08.154069Z",
          "iopub.status.idle": "2024-11-05T09:43:08.260357Z",
          "shell.execute_reply": "2024-11-05T09:43:08.257639Z",
          "shell.execute_reply.started": "2024-11-05T09:43:08.154319Z"
        },
        "id": "O9kkEskzKN3B",
        "outputId": "25b729ff-41d3-462a-be85-aa18aa41e713",
        "pycharm": {
          "name": "#%%\n"
        },
        "tags": []
      },
      "outputs": [
        {
          "output_type": "execute_result",
          "data": {
            "text/plain": [
              "      Attr1    Attr2    Attr3   Attr4    Attr5    Attr6     Attr7   Attr8  \\\n",
              "0  0.174190  0.41299  0.14371  1.3480 -28.9820  0.60383  0.219460  1.1225   \n",
              "1  0.146240  0.46038  0.28230  1.6294   2.5952  0.00000  0.171850  1.1721   \n",
              "2  0.000595  0.22612  0.48839  3.1599  84.8740  0.19114  0.004572  2.9881   \n",
              "3  0.024526  0.43236  0.27546  1.7833 -10.1050  0.56944  0.024526  1.3057   \n",
              "4  0.188290  0.41504  0.34231  1.9279 -58.2740  0.00000  0.233580  1.4094   \n",
              "\n",
              "    Attr9   Attr10  ...    Attr56    Attr57   Attr58    Attr59  Attr60  \\\n",
              "0  1.1961  0.46359  ...  0.163960  0.375740  0.83604  0.000007  9.7145   \n",
              "1  1.6018  0.53962  ...  0.027516  0.271000  0.90108  0.000000  5.9882   \n",
              "2  1.0077  0.67566  ...  0.007639  0.000881  0.99236  0.000000  6.7742   \n",
              "3  1.0509  0.56453  ...  0.048398  0.043445  0.95160  0.142980  4.2286   \n",
              "4  1.3393  0.58496  ...  0.176480  0.321880  0.82635  0.073039  2.5912   \n",
              "\n",
              "   Attr61   Attr62  Attr63  Attr64  class  \n",
              "0  6.2813   84.291  4.3303  4.0341   b'0'  \n",
              "1  4.1103  102.190  3.5716  5.9500   b'0'  \n",
              "2  3.7922   64.846  5.6287  4.4581   b'0'  \n",
              "3  5.0528   98.783  3.6950  3.4844   b'0'  \n",
              "4  7.0756  100.540  3.6303  4.6375   b'0'  \n",
              "\n",
              "[5 rows x 65 columns]"
            ],
            "text/html": [
              "\n",
              "  <div id=\"df-210f61bc-c246-4d78-88bf-f67695891fca\" class=\"colab-df-container\">\n",
              "    <div>\n",
              "<style scoped>\n",
              "    .dataframe tbody tr th:only-of-type {\n",
              "        vertical-align: middle;\n",
              "    }\n",
              "\n",
              "    .dataframe tbody tr th {\n",
              "        vertical-align: top;\n",
              "    }\n",
              "\n",
              "    .dataframe thead th {\n",
              "        text-align: right;\n",
              "    }\n",
              "</style>\n",
              "<table border=\"1\" class=\"dataframe\">\n",
              "  <thead>\n",
              "    <tr style=\"text-align: right;\">\n",
              "      <th></th>\n",
              "      <th>Attr1</th>\n",
              "      <th>Attr2</th>\n",
              "      <th>Attr3</th>\n",
              "      <th>Attr4</th>\n",
              "      <th>Attr5</th>\n",
              "      <th>Attr6</th>\n",
              "      <th>Attr7</th>\n",
              "      <th>Attr8</th>\n",
              "      <th>Attr9</th>\n",
              "      <th>Attr10</th>\n",
              "      <th>...</th>\n",
              "      <th>Attr56</th>\n",
              "      <th>Attr57</th>\n",
              "      <th>Attr58</th>\n",
              "      <th>Attr59</th>\n",
              "      <th>Attr60</th>\n",
              "      <th>Attr61</th>\n",
              "      <th>Attr62</th>\n",
              "      <th>Attr63</th>\n",
              "      <th>Attr64</th>\n",
              "      <th>class</th>\n",
              "    </tr>\n",
              "  </thead>\n",
              "  <tbody>\n",
              "    <tr>\n",
              "      <th>0</th>\n",
              "      <td>0.174190</td>\n",
              "      <td>0.41299</td>\n",
              "      <td>0.14371</td>\n",
              "      <td>1.3480</td>\n",
              "      <td>-28.9820</td>\n",
              "      <td>0.60383</td>\n",
              "      <td>0.219460</td>\n",
              "      <td>1.1225</td>\n",
              "      <td>1.1961</td>\n",
              "      <td>0.46359</td>\n",
              "      <td>...</td>\n",
              "      <td>0.163960</td>\n",
              "      <td>0.375740</td>\n",
              "      <td>0.83604</td>\n",
              "      <td>0.000007</td>\n",
              "      <td>9.7145</td>\n",
              "      <td>6.2813</td>\n",
              "      <td>84.291</td>\n",
              "      <td>4.3303</td>\n",
              "      <td>4.0341</td>\n",
              "      <td>b'0'</td>\n",
              "    </tr>\n",
              "    <tr>\n",
              "      <th>1</th>\n",
              "      <td>0.146240</td>\n",
              "      <td>0.46038</td>\n",
              "      <td>0.28230</td>\n",
              "      <td>1.6294</td>\n",
              "      <td>2.5952</td>\n",
              "      <td>0.00000</td>\n",
              "      <td>0.171850</td>\n",
              "      <td>1.1721</td>\n",
              "      <td>1.6018</td>\n",
              "      <td>0.53962</td>\n",
              "      <td>...</td>\n",
              "      <td>0.027516</td>\n",
              "      <td>0.271000</td>\n",
              "      <td>0.90108</td>\n",
              "      <td>0.000000</td>\n",
              "      <td>5.9882</td>\n",
              "      <td>4.1103</td>\n",
              "      <td>102.190</td>\n",
              "      <td>3.5716</td>\n",
              "      <td>5.9500</td>\n",
              "      <td>b'0'</td>\n",
              "    </tr>\n",
              "    <tr>\n",
              "      <th>2</th>\n",
              "      <td>0.000595</td>\n",
              "      <td>0.22612</td>\n",
              "      <td>0.48839</td>\n",
              "      <td>3.1599</td>\n",
              "      <td>84.8740</td>\n",
              "      <td>0.19114</td>\n",
              "      <td>0.004572</td>\n",
              "      <td>2.9881</td>\n",
              "      <td>1.0077</td>\n",
              "      <td>0.67566</td>\n",
              "      <td>...</td>\n",
              "      <td>0.007639</td>\n",
              "      <td>0.000881</td>\n",
              "      <td>0.99236</td>\n",
              "      <td>0.000000</td>\n",
              "      <td>6.7742</td>\n",
              "      <td>3.7922</td>\n",
              "      <td>64.846</td>\n",
              "      <td>5.6287</td>\n",
              "      <td>4.4581</td>\n",
              "      <td>b'0'</td>\n",
              "    </tr>\n",
              "    <tr>\n",
              "      <th>3</th>\n",
              "      <td>0.024526</td>\n",
              "      <td>0.43236</td>\n",
              "      <td>0.27546</td>\n",
              "      <td>1.7833</td>\n",
              "      <td>-10.1050</td>\n",
              "      <td>0.56944</td>\n",
              "      <td>0.024526</td>\n",
              "      <td>1.3057</td>\n",
              "      <td>1.0509</td>\n",
              "      <td>0.56453</td>\n",
              "      <td>...</td>\n",
              "      <td>0.048398</td>\n",
              "      <td>0.043445</td>\n",
              "      <td>0.95160</td>\n",
              "      <td>0.142980</td>\n",
              "      <td>4.2286</td>\n",
              "      <td>5.0528</td>\n",
              "      <td>98.783</td>\n",
              "      <td>3.6950</td>\n",
              "      <td>3.4844</td>\n",
              "      <td>b'0'</td>\n",
              "    </tr>\n",
              "    <tr>\n",
              "      <th>4</th>\n",
              "      <td>0.188290</td>\n",
              "      <td>0.41504</td>\n",
              "      <td>0.34231</td>\n",
              "      <td>1.9279</td>\n",
              "      <td>-58.2740</td>\n",
              "      <td>0.00000</td>\n",
              "      <td>0.233580</td>\n",
              "      <td>1.4094</td>\n",
              "      <td>1.3393</td>\n",
              "      <td>0.58496</td>\n",
              "      <td>...</td>\n",
              "      <td>0.176480</td>\n",
              "      <td>0.321880</td>\n",
              "      <td>0.82635</td>\n",
              "      <td>0.073039</td>\n",
              "      <td>2.5912</td>\n",
              "      <td>7.0756</td>\n",
              "      <td>100.540</td>\n",
              "      <td>3.6303</td>\n",
              "      <td>4.6375</td>\n",
              "      <td>b'0'</td>\n",
              "    </tr>\n",
              "  </tbody>\n",
              "</table>\n",
              "<p>5 rows × 65 columns</p>\n",
              "</div>\n",
              "    <div class=\"colab-df-buttons\">\n",
              "\n",
              "  <div class=\"colab-df-container\">\n",
              "    <button class=\"colab-df-convert\" onclick=\"convertToInteractive('df-210f61bc-c246-4d78-88bf-f67695891fca')\"\n",
              "            title=\"Convert this dataframe to an interactive table.\"\n",
              "            style=\"display:none;\">\n",
              "\n",
              "  <svg xmlns=\"http://www.w3.org/2000/svg\" height=\"24px\" viewBox=\"0 -960 960 960\">\n",
              "    <path d=\"M120-120v-720h720v720H120Zm60-500h600v-160H180v160Zm220 220h160v-160H400v160Zm0 220h160v-160H400v160ZM180-400h160v-160H180v160Zm440 0h160v-160H620v160ZM180-180h160v-160H180v160Zm440 0h160v-160H620v160Z\"/>\n",
              "  </svg>\n",
              "    </button>\n",
              "\n",
              "  <style>\n",
              "    .colab-df-container {\n",
              "      display:flex;\n",
              "      gap: 12px;\n",
              "    }\n",
              "\n",
              "    .colab-df-convert {\n",
              "      background-color: #E8F0FE;\n",
              "      border: none;\n",
              "      border-radius: 50%;\n",
              "      cursor: pointer;\n",
              "      display: none;\n",
              "      fill: #1967D2;\n",
              "      height: 32px;\n",
              "      padding: 0 0 0 0;\n",
              "      width: 32px;\n",
              "    }\n",
              "\n",
              "    .colab-df-convert:hover {\n",
              "      background-color: #E2EBFA;\n",
              "      box-shadow: 0px 1px 2px rgba(60, 64, 67, 0.3), 0px 1px 3px 1px rgba(60, 64, 67, 0.15);\n",
              "      fill: #174EA6;\n",
              "    }\n",
              "\n",
              "    .colab-df-buttons div {\n",
              "      margin-bottom: 4px;\n",
              "    }\n",
              "\n",
              "    [theme=dark] .colab-df-convert {\n",
              "      background-color: #3B4455;\n",
              "      fill: #D2E3FC;\n",
              "    }\n",
              "\n",
              "    [theme=dark] .colab-df-convert:hover {\n",
              "      background-color: #434B5C;\n",
              "      box-shadow: 0px 1px 3px 1px rgba(0, 0, 0, 0.15);\n",
              "      filter: drop-shadow(0px 1px 2px rgba(0, 0, 0, 0.3));\n",
              "      fill: #FFFFFF;\n",
              "    }\n",
              "  </style>\n",
              "\n",
              "    <script>\n",
              "      const buttonEl =\n",
              "        document.querySelector('#df-210f61bc-c246-4d78-88bf-f67695891fca button.colab-df-convert');\n",
              "      buttonEl.style.display =\n",
              "        google.colab.kernel.accessAllowed ? 'block' : 'none';\n",
              "\n",
              "      async function convertToInteractive(key) {\n",
              "        const element = document.querySelector('#df-210f61bc-c246-4d78-88bf-f67695891fca');\n",
              "        const dataTable =\n",
              "          await google.colab.kernel.invokeFunction('convertToInteractive',\n",
              "                                                    [key], {});\n",
              "        if (!dataTable) return;\n",
              "\n",
              "        const docLinkHtml = 'Like what you see? Visit the ' +\n",
              "          '<a target=\"_blank\" href=https://colab.research.google.com/notebooks/data_table.ipynb>data table notebook</a>'\n",
              "          + ' to learn more about interactive tables.';\n",
              "        element.innerHTML = '';\n",
              "        dataTable['output_type'] = 'display_data';\n",
              "        await google.colab.output.renderOutput(dataTable, element);\n",
              "        const docLink = document.createElement('div');\n",
              "        docLink.innerHTML = docLinkHtml;\n",
              "        element.appendChild(docLink);\n",
              "      }\n",
              "    </script>\n",
              "  </div>\n",
              "\n",
              "\n",
              "<div id=\"df-917b662c-7321-43a5-a742-c479fd0a0ae3\">\n",
              "  <button class=\"colab-df-quickchart\" onclick=\"quickchart('df-917b662c-7321-43a5-a742-c479fd0a0ae3')\"\n",
              "            title=\"Suggest charts\"\n",
              "            style=\"display:none;\">\n",
              "\n",
              "<svg xmlns=\"http://www.w3.org/2000/svg\" height=\"24px\"viewBox=\"0 0 24 24\"\n",
              "     width=\"24px\">\n",
              "    <g>\n",
              "        <path d=\"M19 3H5c-1.1 0-2 .9-2 2v14c0 1.1.9 2 2 2h14c1.1 0 2-.9 2-2V5c0-1.1-.9-2-2-2zM9 17H7v-7h2v7zm4 0h-2V7h2v10zm4 0h-2v-4h2v4z\"/>\n",
              "    </g>\n",
              "</svg>\n",
              "  </button>\n",
              "\n",
              "<style>\n",
              "  .colab-df-quickchart {\n",
              "      --bg-color: #E8F0FE;\n",
              "      --fill-color: #1967D2;\n",
              "      --hover-bg-color: #E2EBFA;\n",
              "      --hover-fill-color: #174EA6;\n",
              "      --disabled-fill-color: #AAA;\n",
              "      --disabled-bg-color: #DDD;\n",
              "  }\n",
              "\n",
              "  [theme=dark] .colab-df-quickchart {\n",
              "      --bg-color: #3B4455;\n",
              "      --fill-color: #D2E3FC;\n",
              "      --hover-bg-color: #434B5C;\n",
              "      --hover-fill-color: #FFFFFF;\n",
              "      --disabled-bg-color: #3B4455;\n",
              "      --disabled-fill-color: #666;\n",
              "  }\n",
              "\n",
              "  .colab-df-quickchart {\n",
              "    background-color: var(--bg-color);\n",
              "    border: none;\n",
              "    border-radius: 50%;\n",
              "    cursor: pointer;\n",
              "    display: none;\n",
              "    fill: var(--fill-color);\n",
              "    height: 32px;\n",
              "    padding: 0;\n",
              "    width: 32px;\n",
              "  }\n",
              "\n",
              "  .colab-df-quickchart:hover {\n",
              "    background-color: var(--hover-bg-color);\n",
              "    box-shadow: 0 1px 2px rgba(60, 64, 67, 0.3), 0 1px 3px 1px rgba(60, 64, 67, 0.15);\n",
              "    fill: var(--button-hover-fill-color);\n",
              "  }\n",
              "\n",
              "  .colab-df-quickchart-complete:disabled,\n",
              "  .colab-df-quickchart-complete:disabled:hover {\n",
              "    background-color: var(--disabled-bg-color);\n",
              "    fill: var(--disabled-fill-color);\n",
              "    box-shadow: none;\n",
              "  }\n",
              "\n",
              "  .colab-df-spinner {\n",
              "    border: 2px solid var(--fill-color);\n",
              "    border-color: transparent;\n",
              "    border-bottom-color: var(--fill-color);\n",
              "    animation:\n",
              "      spin 1s steps(1) infinite;\n",
              "  }\n",
              "\n",
              "  @keyframes spin {\n",
              "    0% {\n",
              "      border-color: transparent;\n",
              "      border-bottom-color: var(--fill-color);\n",
              "      border-left-color: var(--fill-color);\n",
              "    }\n",
              "    20% {\n",
              "      border-color: transparent;\n",
              "      border-left-color: var(--fill-color);\n",
              "      border-top-color: var(--fill-color);\n",
              "    }\n",
              "    30% {\n",
              "      border-color: transparent;\n",
              "      border-left-color: var(--fill-color);\n",
              "      border-top-color: var(--fill-color);\n",
              "      border-right-color: var(--fill-color);\n",
              "    }\n",
              "    40% {\n",
              "      border-color: transparent;\n",
              "      border-right-color: var(--fill-color);\n",
              "      border-top-color: var(--fill-color);\n",
              "    }\n",
              "    60% {\n",
              "      border-color: transparent;\n",
              "      border-right-color: var(--fill-color);\n",
              "    }\n",
              "    80% {\n",
              "      border-color: transparent;\n",
              "      border-right-color: var(--fill-color);\n",
              "      border-bottom-color: var(--fill-color);\n",
              "    }\n",
              "    90% {\n",
              "      border-color: transparent;\n",
              "      border-bottom-color: var(--fill-color);\n",
              "    }\n",
              "  }\n",
              "</style>\n",
              "\n",
              "  <script>\n",
              "    async function quickchart(key) {\n",
              "      const quickchartButtonEl =\n",
              "        document.querySelector('#' + key + ' button');\n",
              "      quickchartButtonEl.disabled = true;  // To prevent multiple clicks.\n",
              "      quickchartButtonEl.classList.add('colab-df-spinner');\n",
              "      try {\n",
              "        const charts = await google.colab.kernel.invokeFunction(\n",
              "            'suggestCharts', [key], {});\n",
              "      } catch (error) {\n",
              "        console.error('Error during call to suggestCharts:', error);\n",
              "      }\n",
              "      quickchartButtonEl.classList.remove('colab-df-spinner');\n",
              "      quickchartButtonEl.classList.add('colab-df-quickchart-complete');\n",
              "    }\n",
              "    (() => {\n",
              "      let quickchartButtonEl =\n",
              "        document.querySelector('#df-917b662c-7321-43a5-a742-c479fd0a0ae3 button');\n",
              "      quickchartButtonEl.style.display =\n",
              "        google.colab.kernel.accessAllowed ? 'block' : 'none';\n",
              "    })();\n",
              "  </script>\n",
              "</div>\n",
              "\n",
              "    </div>\n",
              "  </div>\n"
            ],
            "application/vnd.google.colaboratory.intrinsic+json": {
              "type": "dataframe",
              "variable_name": "X"
            }
          },
          "metadata": {},
          "execution_count": 14
        }
      ],
      "source": [
        "X.head()"
      ]
    },
    {
      "cell_type": "code",
      "execution_count": 15,
      "metadata": {
        "colab": {
          "base_uri": "https://localhost:8080/",
          "height": 458
        },
        "editable": true,
        "execution": {
          "iopub.execute_input": "2024-11-05T09:43:08.265035Z",
          "iopub.status.busy": "2024-11-05T09:43:08.263257Z",
          "iopub.status.idle": "2024-11-05T09:43:08.285292Z",
          "shell.execute_reply": "2024-11-05T09:43:08.282697Z",
          "shell.execute_reply.started": "2024-11-05T09:43:08.264959Z"
        },
        "id": "x5grqg9_KN3B",
        "outputId": "83ea1be1-34a7-490c-c7bb-3dae67981c46",
        "pycharm": {
          "name": "#%%\n"
        },
        "tags": []
      },
      "outputs": [
        {
          "output_type": "execute_result",
          "data": {
            "text/plain": [
              "Attr1     float64\n",
              "Attr2     float64\n",
              "Attr3     float64\n",
              "Attr4     float64\n",
              "Attr5     float64\n",
              "           ...   \n",
              "Attr61    float64\n",
              "Attr62    float64\n",
              "Attr63    float64\n",
              "Attr64    float64\n",
              "class      object\n",
              "Length: 65, dtype: object"
            ],
            "text/html": [
              "<div>\n",
              "<style scoped>\n",
              "    .dataframe tbody tr th:only-of-type {\n",
              "        vertical-align: middle;\n",
              "    }\n",
              "\n",
              "    .dataframe tbody tr th {\n",
              "        vertical-align: top;\n",
              "    }\n",
              "\n",
              "    .dataframe thead th {\n",
              "        text-align: right;\n",
              "    }\n",
              "</style>\n",
              "<table border=\"1\" class=\"dataframe\">\n",
              "  <thead>\n",
              "    <tr style=\"text-align: right;\">\n",
              "      <th></th>\n",
              "      <th>0</th>\n",
              "    </tr>\n",
              "  </thead>\n",
              "  <tbody>\n",
              "    <tr>\n",
              "      <th>Attr1</th>\n",
              "      <td>float64</td>\n",
              "    </tr>\n",
              "    <tr>\n",
              "      <th>Attr2</th>\n",
              "      <td>float64</td>\n",
              "    </tr>\n",
              "    <tr>\n",
              "      <th>Attr3</th>\n",
              "      <td>float64</td>\n",
              "    </tr>\n",
              "    <tr>\n",
              "      <th>Attr4</th>\n",
              "      <td>float64</td>\n",
              "    </tr>\n",
              "    <tr>\n",
              "      <th>Attr5</th>\n",
              "      <td>float64</td>\n",
              "    </tr>\n",
              "    <tr>\n",
              "      <th>...</th>\n",
              "      <td>...</td>\n",
              "    </tr>\n",
              "    <tr>\n",
              "      <th>Attr61</th>\n",
              "      <td>float64</td>\n",
              "    </tr>\n",
              "    <tr>\n",
              "      <th>Attr62</th>\n",
              "      <td>float64</td>\n",
              "    </tr>\n",
              "    <tr>\n",
              "      <th>Attr63</th>\n",
              "      <td>float64</td>\n",
              "    </tr>\n",
              "    <tr>\n",
              "      <th>Attr64</th>\n",
              "      <td>float64</td>\n",
              "    </tr>\n",
              "    <tr>\n",
              "      <th>class</th>\n",
              "      <td>object</td>\n",
              "    </tr>\n",
              "  </tbody>\n",
              "</table>\n",
              "<p>65 rows × 1 columns</p>\n",
              "</div><br><label><b>dtype:</b> object</label>"
            ]
          },
          "metadata": {},
          "execution_count": 15
        }
      ],
      "source": [
        "X.dtypes"
      ]
    },
    {
      "cell_type": "code",
      "execution_count": 16,
      "metadata": {
        "colab": {
          "base_uri": "https://localhost:8080/",
          "height": 350
        },
        "execution": {
          "iopub.execute_input": "2024-11-05T09:43:08.297398Z",
          "iopub.status.busy": "2024-11-05T09:43:08.295891Z",
          "iopub.status.idle": "2024-11-05T09:43:08.591652Z",
          "shell.execute_reply": "2024-11-05T09:43:08.590846Z",
          "shell.execute_reply.started": "2024-11-05T09:43:08.297326Z"
        },
        "id": "wsoZV3a9KN3B",
        "outputId": "ae0b7356-7ff0-436c-e43e-f916344f1f62",
        "pycharm": {
          "name": "#%%\n"
        }
      },
      "outputs": [
        {
          "output_type": "execute_result",
          "data": {
            "text/plain": [
              "              Attr1         Attr2         Attr3         Attr4         Attr5  \\\n",
              "count  10503.000000  10503.000000  10503.000000  10485.000000  1.047800e+04   \n",
              "mean       0.052844      0.619911      0.095490      9.980499 -1.347662e+03   \n",
              "std        0.647797      6.427041      6.420056    523.691951  1.185806e+05   \n",
              "min      -17.692000      0.000000   -479.730000      0.002080 -1.190300e+07   \n",
              "25%        0.000686      0.253955      0.017461      1.040100 -5.207075e+01   \n",
              "50%        0.043034      0.464140      0.198560      1.605600  1.579300e+00   \n",
              "75%        0.123805      0.689330      0.419545      2.959500  5.608400e+01   \n",
              "max       52.652000    480.730000     17.708000  53433.000000  6.854400e+05   \n",
              "\n",
              "              Attr6         Attr7         Attr8         Attr9        Attr10  \\\n",
              "count  10503.000000  10503.000000  10489.000000  10500.000000  10503.000000   \n",
              "mean      -0.121159      0.065624     19.140113      1.819254      0.366093   \n",
              "std        6.970625      0.651152    717.756745      7.581659      6.428603   \n",
              "min     -508.120000    -17.692000     -2.081800     -1.215700   -479.730000   \n",
              "25%        0.000000      0.002118      0.431270      1.011275      0.297340   \n",
              "50%        0.000000      0.050945      1.111000      1.199000      0.515500   \n",
              "75%        0.072584      0.142275      2.857100      2.059100      0.725635   \n",
              "max       45.533000     52.652000  53432.000000    740.440000     11.837000   \n",
              "\n",
              "       ...        Attr55        Attr56        Attr57        Attr58  \\\n",
              "count  ...  1.050300e+04  10460.000000  10503.000000  10474.000000   \n",
              "mean   ...  6.638549e+03     -0.530082     -0.014817      3.848794   \n",
              "std    ...  5.989196e+04     55.978608     18.684047    190.201224   \n",
              "min    ... -7.513800e+05  -5691.700000  -1667.300000   -198.690000   \n",
              "25%    ...  1.462100e+01      0.005137      0.006796      0.875560   \n",
              "50%    ...  8.822900e+02      0.051765      0.106880      0.953060   \n",
              "75%    ...  4.348900e+03      0.130010      0.271310      0.995927   \n",
              "max    ...  3.380500e+06    293.150000    552.640000  18118.000000   \n",
              "\n",
              "             Attr59        Attr60        Attr61        Attr62        Attr63  \\\n",
              "count  10503.000000  9.911000e+03  10486.000000  1.046000e+04  10485.000000   \n",
              "mean       1.429319  5.713363e+02     13.935361  1.355370e+02      9.095149   \n",
              "std       77.273270  3.715967e+04     83.704103  2.599116e+04     31.419096   \n",
              "min     -172.070000  0.000000e+00     -6.590300 -2.336500e+06     -0.000156   \n",
              "25%        0.000000  5.533150e+00      4.486075  4.073700e+01      3.062800   \n",
              "50%        0.002976  9.952100e+00      6.677300  7.066400e+01      5.139200   \n",
              "75%        0.240320  2.093600e+01     10.587500  1.182200e+02      8.882600   \n",
              "max     7617.300000  3.660200e+06   4470.400000  1.073500e+06   1974.500000   \n",
              "\n",
              "             Attr64  \n",
              "count  10275.000000  \n",
              "mean      35.766800  \n",
              "std      428.298315  \n",
              "min       -0.000102  \n",
              "25%        2.023350  \n",
              "50%        4.059300  \n",
              "75%        9.682750  \n",
              "max    21499.000000  \n",
              "\n",
              "[8 rows x 64 columns]"
            ],
            "text/html": [
              "\n",
              "  <div id=\"df-2429e16f-a422-4d51-a60a-c3ed3de24066\" class=\"colab-df-container\">\n",
              "    <div>\n",
              "<style scoped>\n",
              "    .dataframe tbody tr th:only-of-type {\n",
              "        vertical-align: middle;\n",
              "    }\n",
              "\n",
              "    .dataframe tbody tr th {\n",
              "        vertical-align: top;\n",
              "    }\n",
              "\n",
              "    .dataframe thead th {\n",
              "        text-align: right;\n",
              "    }\n",
              "</style>\n",
              "<table border=\"1\" class=\"dataframe\">\n",
              "  <thead>\n",
              "    <tr style=\"text-align: right;\">\n",
              "      <th></th>\n",
              "      <th>Attr1</th>\n",
              "      <th>Attr2</th>\n",
              "      <th>Attr3</th>\n",
              "      <th>Attr4</th>\n",
              "      <th>Attr5</th>\n",
              "      <th>Attr6</th>\n",
              "      <th>Attr7</th>\n",
              "      <th>Attr8</th>\n",
              "      <th>Attr9</th>\n",
              "      <th>Attr10</th>\n",
              "      <th>...</th>\n",
              "      <th>Attr55</th>\n",
              "      <th>Attr56</th>\n",
              "      <th>Attr57</th>\n",
              "      <th>Attr58</th>\n",
              "      <th>Attr59</th>\n",
              "      <th>Attr60</th>\n",
              "      <th>Attr61</th>\n",
              "      <th>Attr62</th>\n",
              "      <th>Attr63</th>\n",
              "      <th>Attr64</th>\n",
              "    </tr>\n",
              "  </thead>\n",
              "  <tbody>\n",
              "    <tr>\n",
              "      <th>count</th>\n",
              "      <td>10503.000000</td>\n",
              "      <td>10503.000000</td>\n",
              "      <td>10503.000000</td>\n",
              "      <td>10485.000000</td>\n",
              "      <td>1.047800e+04</td>\n",
              "      <td>10503.000000</td>\n",
              "      <td>10503.000000</td>\n",
              "      <td>10489.000000</td>\n",
              "      <td>10500.000000</td>\n",
              "      <td>10503.000000</td>\n",
              "      <td>...</td>\n",
              "      <td>1.050300e+04</td>\n",
              "      <td>10460.000000</td>\n",
              "      <td>10503.000000</td>\n",
              "      <td>10474.000000</td>\n",
              "      <td>10503.000000</td>\n",
              "      <td>9.911000e+03</td>\n",
              "      <td>10486.000000</td>\n",
              "      <td>1.046000e+04</td>\n",
              "      <td>10485.000000</td>\n",
              "      <td>10275.000000</td>\n",
              "    </tr>\n",
              "    <tr>\n",
              "      <th>mean</th>\n",
              "      <td>0.052844</td>\n",
              "      <td>0.619911</td>\n",
              "      <td>0.095490</td>\n",
              "      <td>9.980499</td>\n",
              "      <td>-1.347662e+03</td>\n",
              "      <td>-0.121159</td>\n",
              "      <td>0.065624</td>\n",
              "      <td>19.140113</td>\n",
              "      <td>1.819254</td>\n",
              "      <td>0.366093</td>\n",
              "      <td>...</td>\n",
              "      <td>6.638549e+03</td>\n",
              "      <td>-0.530082</td>\n",
              "      <td>-0.014817</td>\n",
              "      <td>3.848794</td>\n",
              "      <td>1.429319</td>\n",
              "      <td>5.713363e+02</td>\n",
              "      <td>13.935361</td>\n",
              "      <td>1.355370e+02</td>\n",
              "      <td>9.095149</td>\n",
              "      <td>35.766800</td>\n",
              "    </tr>\n",
              "    <tr>\n",
              "      <th>std</th>\n",
              "      <td>0.647797</td>\n",
              "      <td>6.427041</td>\n",
              "      <td>6.420056</td>\n",
              "      <td>523.691951</td>\n",
              "      <td>1.185806e+05</td>\n",
              "      <td>6.970625</td>\n",
              "      <td>0.651152</td>\n",
              "      <td>717.756745</td>\n",
              "      <td>7.581659</td>\n",
              "      <td>6.428603</td>\n",
              "      <td>...</td>\n",
              "      <td>5.989196e+04</td>\n",
              "      <td>55.978608</td>\n",
              "      <td>18.684047</td>\n",
              "      <td>190.201224</td>\n",
              "      <td>77.273270</td>\n",
              "      <td>3.715967e+04</td>\n",
              "      <td>83.704103</td>\n",
              "      <td>2.599116e+04</td>\n",
              "      <td>31.419096</td>\n",
              "      <td>428.298315</td>\n",
              "    </tr>\n",
              "    <tr>\n",
              "      <th>min</th>\n",
              "      <td>-17.692000</td>\n",
              "      <td>0.000000</td>\n",
              "      <td>-479.730000</td>\n",
              "      <td>0.002080</td>\n",
              "      <td>-1.190300e+07</td>\n",
              "      <td>-508.120000</td>\n",
              "      <td>-17.692000</td>\n",
              "      <td>-2.081800</td>\n",
              "      <td>-1.215700</td>\n",
              "      <td>-479.730000</td>\n",
              "      <td>...</td>\n",
              "      <td>-7.513800e+05</td>\n",
              "      <td>-5691.700000</td>\n",
              "      <td>-1667.300000</td>\n",
              "      <td>-198.690000</td>\n",
              "      <td>-172.070000</td>\n",
              "      <td>0.000000e+00</td>\n",
              "      <td>-6.590300</td>\n",
              "      <td>-2.336500e+06</td>\n",
              "      <td>-0.000156</td>\n",
              "      <td>-0.000102</td>\n",
              "    </tr>\n",
              "    <tr>\n",
              "      <th>25%</th>\n",
              "      <td>0.000686</td>\n",
              "      <td>0.253955</td>\n",
              "      <td>0.017461</td>\n",
              "      <td>1.040100</td>\n",
              "      <td>-5.207075e+01</td>\n",
              "      <td>0.000000</td>\n",
              "      <td>0.002118</td>\n",
              "      <td>0.431270</td>\n",
              "      <td>1.011275</td>\n",
              "      <td>0.297340</td>\n",
              "      <td>...</td>\n",
              "      <td>1.462100e+01</td>\n",
              "      <td>0.005137</td>\n",
              "      <td>0.006796</td>\n",
              "      <td>0.875560</td>\n",
              "      <td>0.000000</td>\n",
              "      <td>5.533150e+00</td>\n",
              "      <td>4.486075</td>\n",
              "      <td>4.073700e+01</td>\n",
              "      <td>3.062800</td>\n",
              "      <td>2.023350</td>\n",
              "    </tr>\n",
              "    <tr>\n",
              "      <th>50%</th>\n",
              "      <td>0.043034</td>\n",
              "      <td>0.464140</td>\n",
              "      <td>0.198560</td>\n",
              "      <td>1.605600</td>\n",
              "      <td>1.579300e+00</td>\n",
              "      <td>0.000000</td>\n",
              "      <td>0.050945</td>\n",
              "      <td>1.111000</td>\n",
              "      <td>1.199000</td>\n",
              "      <td>0.515500</td>\n",
              "      <td>...</td>\n",
              "      <td>8.822900e+02</td>\n",
              "      <td>0.051765</td>\n",
              "      <td>0.106880</td>\n",
              "      <td>0.953060</td>\n",
              "      <td>0.002976</td>\n",
              "      <td>9.952100e+00</td>\n",
              "      <td>6.677300</td>\n",
              "      <td>7.066400e+01</td>\n",
              "      <td>5.139200</td>\n",
              "      <td>4.059300</td>\n",
              "    </tr>\n",
              "    <tr>\n",
              "      <th>75%</th>\n",
              "      <td>0.123805</td>\n",
              "      <td>0.689330</td>\n",
              "      <td>0.419545</td>\n",
              "      <td>2.959500</td>\n",
              "      <td>5.608400e+01</td>\n",
              "      <td>0.072584</td>\n",
              "      <td>0.142275</td>\n",
              "      <td>2.857100</td>\n",
              "      <td>2.059100</td>\n",
              "      <td>0.725635</td>\n",
              "      <td>...</td>\n",
              "      <td>4.348900e+03</td>\n",
              "      <td>0.130010</td>\n",
              "      <td>0.271310</td>\n",
              "      <td>0.995927</td>\n",
              "      <td>0.240320</td>\n",
              "      <td>2.093600e+01</td>\n",
              "      <td>10.587500</td>\n",
              "      <td>1.182200e+02</td>\n",
              "      <td>8.882600</td>\n",
              "      <td>9.682750</td>\n",
              "    </tr>\n",
              "    <tr>\n",
              "      <th>max</th>\n",
              "      <td>52.652000</td>\n",
              "      <td>480.730000</td>\n",
              "      <td>17.708000</td>\n",
              "      <td>53433.000000</td>\n",
              "      <td>6.854400e+05</td>\n",
              "      <td>45.533000</td>\n",
              "      <td>52.652000</td>\n",
              "      <td>53432.000000</td>\n",
              "      <td>740.440000</td>\n",
              "      <td>11.837000</td>\n",
              "      <td>...</td>\n",
              "      <td>3.380500e+06</td>\n",
              "      <td>293.150000</td>\n",
              "      <td>552.640000</td>\n",
              "      <td>18118.000000</td>\n",
              "      <td>7617.300000</td>\n",
              "      <td>3.660200e+06</td>\n",
              "      <td>4470.400000</td>\n",
              "      <td>1.073500e+06</td>\n",
              "      <td>1974.500000</td>\n",
              "      <td>21499.000000</td>\n",
              "    </tr>\n",
              "  </tbody>\n",
              "</table>\n",
              "<p>8 rows × 64 columns</p>\n",
              "</div>\n",
              "    <div class=\"colab-df-buttons\">\n",
              "\n",
              "  <div class=\"colab-df-container\">\n",
              "    <button class=\"colab-df-convert\" onclick=\"convertToInteractive('df-2429e16f-a422-4d51-a60a-c3ed3de24066')\"\n",
              "            title=\"Convert this dataframe to an interactive table.\"\n",
              "            style=\"display:none;\">\n",
              "\n",
              "  <svg xmlns=\"http://www.w3.org/2000/svg\" height=\"24px\" viewBox=\"0 -960 960 960\">\n",
              "    <path d=\"M120-120v-720h720v720H120Zm60-500h600v-160H180v160Zm220 220h160v-160H400v160Zm0 220h160v-160H400v160ZM180-400h160v-160H180v160Zm440 0h160v-160H620v160ZM180-180h160v-160H180v160Zm440 0h160v-160H620v160Z\"/>\n",
              "  </svg>\n",
              "    </button>\n",
              "\n",
              "  <style>\n",
              "    .colab-df-container {\n",
              "      display:flex;\n",
              "      gap: 12px;\n",
              "    }\n",
              "\n",
              "    .colab-df-convert {\n",
              "      background-color: #E8F0FE;\n",
              "      border: none;\n",
              "      border-radius: 50%;\n",
              "      cursor: pointer;\n",
              "      display: none;\n",
              "      fill: #1967D2;\n",
              "      height: 32px;\n",
              "      padding: 0 0 0 0;\n",
              "      width: 32px;\n",
              "    }\n",
              "\n",
              "    .colab-df-convert:hover {\n",
              "      background-color: #E2EBFA;\n",
              "      box-shadow: 0px 1px 2px rgba(60, 64, 67, 0.3), 0px 1px 3px 1px rgba(60, 64, 67, 0.15);\n",
              "      fill: #174EA6;\n",
              "    }\n",
              "\n",
              "    .colab-df-buttons div {\n",
              "      margin-bottom: 4px;\n",
              "    }\n",
              "\n",
              "    [theme=dark] .colab-df-convert {\n",
              "      background-color: #3B4455;\n",
              "      fill: #D2E3FC;\n",
              "    }\n",
              "\n",
              "    [theme=dark] .colab-df-convert:hover {\n",
              "      background-color: #434B5C;\n",
              "      box-shadow: 0px 1px 3px 1px rgba(0, 0, 0, 0.15);\n",
              "      filter: drop-shadow(0px 1px 2px rgba(0, 0, 0, 0.3));\n",
              "      fill: #FFFFFF;\n",
              "    }\n",
              "  </style>\n",
              "\n",
              "    <script>\n",
              "      const buttonEl =\n",
              "        document.querySelector('#df-2429e16f-a422-4d51-a60a-c3ed3de24066 button.colab-df-convert');\n",
              "      buttonEl.style.display =\n",
              "        google.colab.kernel.accessAllowed ? 'block' : 'none';\n",
              "\n",
              "      async function convertToInteractive(key) {\n",
              "        const element = document.querySelector('#df-2429e16f-a422-4d51-a60a-c3ed3de24066');\n",
              "        const dataTable =\n",
              "          await google.colab.kernel.invokeFunction('convertToInteractive',\n",
              "                                                    [key], {});\n",
              "        if (!dataTable) return;\n",
              "\n",
              "        const docLinkHtml = 'Like what you see? Visit the ' +\n",
              "          '<a target=\"_blank\" href=https://colab.research.google.com/notebooks/data_table.ipynb>data table notebook</a>'\n",
              "          + ' to learn more about interactive tables.';\n",
              "        element.innerHTML = '';\n",
              "        dataTable['output_type'] = 'display_data';\n",
              "        await google.colab.output.renderOutput(dataTable, element);\n",
              "        const docLink = document.createElement('div');\n",
              "        docLink.innerHTML = docLinkHtml;\n",
              "        element.appendChild(docLink);\n",
              "      }\n",
              "    </script>\n",
              "  </div>\n",
              "\n",
              "\n",
              "<div id=\"df-57bcf487-0e0a-44d5-860a-d7f756821da7\">\n",
              "  <button class=\"colab-df-quickchart\" onclick=\"quickchart('df-57bcf487-0e0a-44d5-860a-d7f756821da7')\"\n",
              "            title=\"Suggest charts\"\n",
              "            style=\"display:none;\">\n",
              "\n",
              "<svg xmlns=\"http://www.w3.org/2000/svg\" height=\"24px\"viewBox=\"0 0 24 24\"\n",
              "     width=\"24px\">\n",
              "    <g>\n",
              "        <path d=\"M19 3H5c-1.1 0-2 .9-2 2v14c0 1.1.9 2 2 2h14c1.1 0 2-.9 2-2V5c0-1.1-.9-2-2-2zM9 17H7v-7h2v7zm4 0h-2V7h2v10zm4 0h-2v-4h2v4z\"/>\n",
              "    </g>\n",
              "</svg>\n",
              "  </button>\n",
              "\n",
              "<style>\n",
              "  .colab-df-quickchart {\n",
              "      --bg-color: #E8F0FE;\n",
              "      --fill-color: #1967D2;\n",
              "      --hover-bg-color: #E2EBFA;\n",
              "      --hover-fill-color: #174EA6;\n",
              "      --disabled-fill-color: #AAA;\n",
              "      --disabled-bg-color: #DDD;\n",
              "  }\n",
              "\n",
              "  [theme=dark] .colab-df-quickchart {\n",
              "      --bg-color: #3B4455;\n",
              "      --fill-color: #D2E3FC;\n",
              "      --hover-bg-color: #434B5C;\n",
              "      --hover-fill-color: #FFFFFF;\n",
              "      --disabled-bg-color: #3B4455;\n",
              "      --disabled-fill-color: #666;\n",
              "  }\n",
              "\n",
              "  .colab-df-quickchart {\n",
              "    background-color: var(--bg-color);\n",
              "    border: none;\n",
              "    border-radius: 50%;\n",
              "    cursor: pointer;\n",
              "    display: none;\n",
              "    fill: var(--fill-color);\n",
              "    height: 32px;\n",
              "    padding: 0;\n",
              "    width: 32px;\n",
              "  }\n",
              "\n",
              "  .colab-df-quickchart:hover {\n",
              "    background-color: var(--hover-bg-color);\n",
              "    box-shadow: 0 1px 2px rgba(60, 64, 67, 0.3), 0 1px 3px 1px rgba(60, 64, 67, 0.15);\n",
              "    fill: var(--button-hover-fill-color);\n",
              "  }\n",
              "\n",
              "  .colab-df-quickchart-complete:disabled,\n",
              "  .colab-df-quickchart-complete:disabled:hover {\n",
              "    background-color: var(--disabled-bg-color);\n",
              "    fill: var(--disabled-fill-color);\n",
              "    box-shadow: none;\n",
              "  }\n",
              "\n",
              "  .colab-df-spinner {\n",
              "    border: 2px solid var(--fill-color);\n",
              "    border-color: transparent;\n",
              "    border-bottom-color: var(--fill-color);\n",
              "    animation:\n",
              "      spin 1s steps(1) infinite;\n",
              "  }\n",
              "\n",
              "  @keyframes spin {\n",
              "    0% {\n",
              "      border-color: transparent;\n",
              "      border-bottom-color: var(--fill-color);\n",
              "      border-left-color: var(--fill-color);\n",
              "    }\n",
              "    20% {\n",
              "      border-color: transparent;\n",
              "      border-left-color: var(--fill-color);\n",
              "      border-top-color: var(--fill-color);\n",
              "    }\n",
              "    30% {\n",
              "      border-color: transparent;\n",
              "      border-left-color: var(--fill-color);\n",
              "      border-top-color: var(--fill-color);\n",
              "      border-right-color: var(--fill-color);\n",
              "    }\n",
              "    40% {\n",
              "      border-color: transparent;\n",
              "      border-right-color: var(--fill-color);\n",
              "      border-top-color: var(--fill-color);\n",
              "    }\n",
              "    60% {\n",
              "      border-color: transparent;\n",
              "      border-right-color: var(--fill-color);\n",
              "    }\n",
              "    80% {\n",
              "      border-color: transparent;\n",
              "      border-right-color: var(--fill-color);\n",
              "      border-bottom-color: var(--fill-color);\n",
              "    }\n",
              "    90% {\n",
              "      border-color: transparent;\n",
              "      border-bottom-color: var(--fill-color);\n",
              "    }\n",
              "  }\n",
              "</style>\n",
              "\n",
              "  <script>\n",
              "    async function quickchart(key) {\n",
              "      const quickchartButtonEl =\n",
              "        document.querySelector('#' + key + ' button');\n",
              "      quickchartButtonEl.disabled = true;  // To prevent multiple clicks.\n",
              "      quickchartButtonEl.classList.add('colab-df-spinner');\n",
              "      try {\n",
              "        const charts = await google.colab.kernel.invokeFunction(\n",
              "            'suggestCharts', [key], {});\n",
              "      } catch (error) {\n",
              "        console.error('Error during call to suggestCharts:', error);\n",
              "      }\n",
              "      quickchartButtonEl.classList.remove('colab-df-spinner');\n",
              "      quickchartButtonEl.classList.add('colab-df-quickchart-complete');\n",
              "    }\n",
              "    (() => {\n",
              "      let quickchartButtonEl =\n",
              "        document.querySelector('#df-57bcf487-0e0a-44d5-860a-d7f756821da7 button');\n",
              "      quickchartButtonEl.style.display =\n",
              "        google.colab.kernel.accessAllowed ? 'block' : 'none';\n",
              "    })();\n",
              "  </script>\n",
              "</div>\n",
              "\n",
              "    </div>\n",
              "  </div>\n"
            ],
            "application/vnd.google.colaboratory.intrinsic+json": {
              "type": "dataframe"
            }
          },
          "metadata": {},
          "execution_count": 16
        }
      ],
      "source": [
        "X.describe()"
      ]
    },
    {
      "cell_type": "code",
      "execution_count": 17,
      "metadata": {
        "colab": {
          "base_uri": "https://localhost:8080/"
        },
        "editable": true,
        "execution": {
          "iopub.execute_input": "2024-11-05T09:43:08.592799Z",
          "iopub.status.busy": "2024-11-05T09:43:08.592406Z",
          "iopub.status.idle": "2024-11-05T09:43:08.600499Z",
          "shell.execute_reply": "2024-11-05T09:43:08.599034Z",
          "shell.execute_reply.started": "2024-11-05T09:43:08.592770Z"
        },
        "id": "8DKGF56VKN3B",
        "outputId": "d40138ac-4bcd-454e-eca8-62ccb1c47720",
        "tags": []
      },
      "outputs": [
        {
          "output_type": "execute_result",
          "data": {
            "text/plain": [
              "['net profit / total assets',\n",
              " 'total liabilities / total assets',\n",
              " 'working capital / total assets',\n",
              " 'current assets / short-term liabilities',\n",
              " '[(cash + short-term securities + receivables - short-term liabilities) / (operating expenses - depreciation)] * 365',\n",
              " 'retained earnings / total assets',\n",
              " 'EBIT / total assets',\n",
              " 'book value of equity / total liabilities',\n",
              " 'sales / total assets',\n",
              " 'equity / total assets',\n",
              " '(gross profit + extraordinary items + financial expenses) / total assets',\n",
              " 'gross profit / short-term liabilities',\n",
              " '(gross profit + depreciation) / sales',\n",
              " '(gross profit + interest) / total assets',\n",
              " '(total liabilities * 365) / (gross profit + depreciation)',\n",
              " '(gross profit + depreciation) / total liabilities',\n",
              " 'total assets / total liabilities',\n",
              " 'gross profit / total assets',\n",
              " 'gross profit / sales',\n",
              " '(inventory * 365) / sales',\n",
              " 'sales (n) / sales (n-1)',\n",
              " 'profit on operating activities / total assets',\n",
              " 'net profit / sales',\n",
              " 'gross profit (in 3 years) / total assets',\n",
              " '(equity - share capital) / total assets',\n",
              " '(net profit + depreciation) / total liabilities',\n",
              " 'profit on operating activities / financial expenses',\n",
              " 'working capital / fixed assets',\n",
              " 'logarithm of total assets',\n",
              " '(total liabilities - cash) / sales',\n",
              " '(gross profit + interest) / sales',\n",
              " '(current liabilities * 365) / cost of products sold',\n",
              " 'operating expenses / short-term liabilities',\n",
              " 'operating expenses / total liabilities',\n",
              " 'profit on sales / total assets',\n",
              " 'total sales / total assets',\n",
              " 'constant capital / total assets',\n",
              " 'profit on sales / sales',\n",
              " '(current assets - inventory - receivables) / short-term liabilities',\n",
              " 'total liabilities / ((profit on operating activities + depreciation) * (12/365))',\n",
              " 'profit on operating activities / sales',\n",
              " 'rotation receivables + inventory turnover in days',\n",
              " '(receivables * 365) / sales',\n",
              " 'net profit / inventory',\n",
              " '(current assets - inventory) / short-term liabilities',\n",
              " '(inventory * 365) / cost of products sold',\n",
              " 'EBITDA (profit on operating activities - depreciation) / total assets',\n",
              " 'EBITDA (profit on operating activities - depreciation) / sales',\n",
              " 'current assets / total liabilities',\n",
              " 'short-term liabilities / total assets',\n",
              " '(short-term liabilities * 365) / cost of products sold)',\n",
              " 'equity / fixed assets',\n",
              " 'constant capital / fixed assets',\n",
              " 'working capital',\n",
              " '(sales - cost of products sold) / sales',\n",
              " '(current assets - inventory - short-term liabilities) / (sales - gross profit - depreciation)',\n",
              " 'total costs / total sales',\n",
              " 'long-term liabilities / equity',\n",
              " 'sales / inventory',\n",
              " 'sales / receivables',\n",
              " '(short-term liabilities * 365) / sales',\n",
              " 'sales / short-term liabilities',\n",
              " 'sales / fixed assets']"
            ]
          },
          "metadata": {},
          "execution_count": 17
        }
      ],
      "source": [
        "feature_names"
      ]
    },
    {
      "cell_type": "markdown",
      "metadata": {
        "editable": true,
        "id": "nd1PpzuGKN3B",
        "pycharm": {
          "name": "#%% md\n"
        },
        "tags": []
      },
      "source": [
        "DataFrame zawiera 64 atrybuty numeryczne o zróżnicowanych rozkładach wartości oraz kolumnę `\"class\"` typu `bytes` z klasami 0 i 1. Wiemy, że mamy do czynienia z klasyfikacją binarną - klasa 0 to brak bankructwa, klasa 1 to bankructwo w ciągu najbliższych 3 lat. Przyjrzyjmy się dokładniej naszym danym."
      ]
    },
    {
      "cell_type": "markdown",
      "metadata": {
        "editable": true,
        "id": "XxaGIL_aKN3C",
        "tags": [
          "ex"
        ]
      },
      "source": [
        "### Zadanie 1 (0.5 punktu)"
      ]
    },
    {
      "cell_type": "markdown",
      "metadata": {
        "editable": true,
        "id": "EvDaqelJKN3C",
        "tags": [
          "ex"
        ]
      },
      "source": [
        "1. Wyodrębnij klasy jako osobną zmienną typu `pd.Series`, usuwając je z macierzy `X`. Przekonwertuj je na liczby całkowite.\n",
        "2. Narysuj wykres słupkowy częstotliwości obu klas w całym zbiorze. Upewnij się, że na osi X są numery lub nazwy klas, a oś Y ma wartości w procentach.\n",
        "\n",
        "**Uwaga:** sugerowane jest użycie `if` w podpunkcie 1, żeby można było tę komórkę bezpiecznie odpalić kilka razy."
      ]
    },
    {
      "cell_type": "code",
      "execution_count": 18,
      "metadata": {
        "editable": true,
        "execution": {
          "iopub.execute_input": "2024-11-05T09:43:08.602105Z",
          "iopub.status.busy": "2024-11-05T09:43:08.601757Z",
          "iopub.status.idle": "2024-11-05T09:43:08.621691Z",
          "shell.execute_reply": "2024-11-05T09:43:08.620795Z",
          "shell.execute_reply.started": "2024-11-05T09:43:08.602070Z"
        },
        "id": "bnundb-SKN3C",
        "pycharm": {
          "name": "#%%\n"
        },
        "tags": [
          "ex"
        ]
      },
      "outputs": [],
      "source": [
        "# your_code\n",
        "class_series = pd.Series()\n",
        "if \"class\" in X.columns:\n",
        "    class_series = X[\"class\"].astype(int)\n",
        "    X = X.drop(columns=[\"class\"])\n",
        "else:\n",
        "  print(\"class already removed\")\n"
      ]
    },
    {
      "cell_type": "code",
      "execution_count": 19,
      "metadata": {
        "colab": {
          "base_uri": "https://localhost:8080/",
          "height": 564
        },
        "execution": {
          "iopub.execute_input": "2024-11-05T09:43:08.622971Z",
          "iopub.status.busy": "2024-11-05T09:43:08.622595Z",
          "iopub.status.idle": "2024-11-05T09:43:10.205226Z",
          "shell.execute_reply": "2024-11-05T09:43:10.204490Z",
          "shell.execute_reply.started": "2024-11-05T09:43:08.622946Z"
        },
        "id": "c9ZJJVU7LBXg",
        "outputId": "673fb5b0-2419-4ab0-c96d-8e55381e5e40"
      },
      "outputs": [
        {
          "output_type": "display_data",
          "data": {
            "text/plain": [
              "<Figure size 800x600 with 1 Axes>"
            ],
            "image/png": "[encoded data removed]"
          },
          "metadata": {}
        }
      ],
      "source": [
        "import matplotlib.pyplot as plt\n",
        "\n",
        "# Calculate the frequency for each class and convert to percentage\n",
        "class_counts = class_series.value_counts(normalize=True) * 100\n",
        "\n",
        "\n",
        "plt.figure(figsize=(8, 6))  # Set figure size\n",
        "class_counts.plot(kind='bar', color=['skyblue', 'salmon'])\n",
        "\n",
        "\n",
        "plt.title(\"Class Frequencies in Percentage\")\n",
        "plt.xlabel(\"Classes\")\n",
        "plt.ylabel(\"Percentage\")\n",
        "plt.xticks(rotation=0)\n",
        "plt.ylim(0, 100)\n",
        "\n",
        "plt.show()\n",
        "\n"
      ]
    },
    {
      "cell_type": "markdown",
      "metadata": {
        "id": "ZsAlFPYBLh_L"
      },
      "source": [
        "Możemy zobaczyć że klasy są bardzo niezbilansowane, prawie 95% przypadków to klasa pozytywna."
      ]
    },
    {
      "cell_type": "code",
      "execution_count": 20,
      "metadata": {
        "colab": {
          "base_uri": "https://localhost:8080/"
        },
        "editable": true,
        "execution": {
          "iopub.execute_input": "2024-11-05T09:43:10.206565Z",
          "iopub.status.busy": "2024-11-05T09:43:10.206292Z",
          "iopub.status.idle": "2024-11-05T09:43:10.211592Z",
          "shell.execute_reply": "2024-11-05T09:43:10.210378Z",
          "shell.execute_reply.started": "2024-11-05T09:43:10.206546Z"
        },
        "id": "Dd0EiPy9KN3C",
        "outputId": "ace967a2-12b6-4f14-b07a-cfa1180d8a09",
        "tags": [
          "ex"
        ]
      },
      "outputs": [
        {
          "output_type": "stream",
          "name": "stdout",
          "text": [
            "Solution is correct!\n"
          ]
        }
      ],
      "source": [
        "assert \"class\" not in X.columns\n",
        "\n",
        "print(\"Solution is correct!\")"
      ]
    },
    {
      "cell_type": "markdown",
      "metadata": {
        "editable": true,
        "id": "6g423vUwKN3C",
        "pycharm": {
          "name": "#%% md\n"
        },
        "tags": []
      },
      "source": [
        "Jak widać, klasa pozytywna jest w znacznej mniejszości, stanowi poniżej 5% zbioru. Taki problem nazywamy **klasyfikacją niezbalansowaną (imbalanced classification)**. Mamy tu **klasę dominującą (majority class)** oraz **klasę mniejszościową (minority class)**. Pechowo prawie zawsze interesuje nas ta druga, bo klasa większościowa nie niesie najczęściej żadnych interesujących informacji. Przykładowo, 99% badanych jest zdrowych, a 1% ma niewykryty nowotwór - z oczywistych przyczyn chcemy wykrywać właśnie sytuację rzadką (problem diagnozy jako klasyfikacji jest zasadniczo zawsze niezbalansowany). W dalszej części laboratorium poznamy szereg konsekwencji tego zjawiska i metody na radzenie sobie z nim.\n",
        "\n",
        "Mamy sporo cech w naszym zbiorze, wszystkie są numeryczne. Ciekawe, czy mają wartości brakujące, a jeśli tak, to ile? Policzymy to z pomocą biblioteki Pandas i metody `.isna()`. Domyślnie operuje ona na kolumnach, jak większość metod w w tej bibliotece. Sumę wartości per kolumna zwróci nam metoda `.sum()`. Jeżeli podzielimy to przez liczbę wierszy `len(X)`, to otrzymamy ułamek wartości brakujących w każdej kolumnie.\n",
        "\n",
        "Biblioteka Pandas potrafi też stworzyć wykres, z pomocą funkcji np. `.plot.hist()` czy `.plot.bar()`. Przyjmują one opcje formatowania wykresu z których korzysta biblioteka `matplotlib`."
      ]
    },
    {
      "cell_type": "code",
      "execution_count": 21,
      "metadata": {
        "colab": {
          "base_uri": "https://localhost:8080/",
          "height": 515
        },
        "editable": true,
        "execution": {
          "iopub.execute_input": "2024-11-05T09:43:10.214606Z",
          "iopub.status.busy": "2024-11-05T09:43:10.213709Z",
          "iopub.status.idle": "2024-11-05T09:43:10.644222Z",
          "shell.execute_reply": "2024-11-05T09:43:10.643654Z",
          "shell.execute_reply.started": "2024-11-05T09:43:10.214562Z"
        },
        "id": "-ev4S_GNKN3C",
        "outputId": "96363ff1-5b87-41a7-9b9d-05ae7aa41ce8",
        "pycharm": {
          "name": "#%%\n"
        },
        "tags": []
      },
      "outputs": [
        {
          "output_type": "execute_result",
          "data": {
            "text/plain": [
              "<Axes: title={'center': 'Fraction of missing values per column'}>"
            ]
          },
          "metadata": {},
          "execution_count": 21
        },
        {
          "output_type": "display_data",
          "data": {
            "text/plain": [
              "<Figure size 1500x500 with 1 Axes>"
            ],
            "image/png": "[encoded data removed]"
          },
          "metadata": {}
        }
      ],
      "source": [
        "na_perc = X.isna().sum() / len(X)\n",
        "na_perc.plot.bar(title=\"Fraction of missing values per column\", figsize=(15, 5))"
      ]
    },
    {
      "cell_type": "markdown",
      "metadata": {
        "editable": true,
        "id": "RCkXE5uYKN3D",
        "pycharm": {
          "name": "#%% md\n"
        },
        "tags": [
          "ex"
        ]
      },
      "source": [
        "Jak widać, cecha 37 ma bardzo dużo wartości brakujących, podczas gdy pozostałe cechy mają raczej niewielką ich liczbę. W takiej sytuacji najlepiej usunąć tę cechę, a pozostałe wartości brakujące **uzupełnić** (co realizowaliśmy już poprzednio). Pamiętaj, że imputacji dokonuje się dopiero po podziale na zbiór treningowy i testowy! W przeciwnym wypadku wykorzystywalibyśmy dane ze zbioru testowego, co sztucznie zawyżyłoby wyniki. Jest to błąd metodologiczny - **wyciek danych (data leakage)**.\n",
        "\n",
        "Podział na zbiór treningowy i testowy to pierwszy moment, kiedy niezbalansowanie danych nam przeszkadza. Jeżeli zrobimy to czysto losowo, to jest spora szansa, że w zbiorze testowym będzie tylko klasa negatywna - w końcu jest jej aż >95%. Dlatego wykorzystuje się **próbkowanie ze stratyfikacją (stratified sampling)**, dzięki któremu proporcje klas w zbiorze przed podziałem oraz obu zbiorach po podziale są takie same."
      ]
    },
    {
      "cell_type": "markdown",
      "metadata": {
        "editable": true,
        "id": "ViavSRkVKN3D",
        "tags": [
          "ex"
        ]
      },
      "source": [
        "### Zadanie 2 (0.75 punktu)"
      ]
    },
    {
      "cell_type": "markdown",
      "metadata": {
        "editable": true,
        "id": "iz9fcyZLKN3D",
        "tags": [
          "ex"
        ]
      },
      "source": [
        "1. Usuń kolumnę `\"Attr37\"` ze zbioru danych.\n",
        "2. Dokonaj podziału zbioru na treningowy i testowy w proporcjach 80%-20%, z przemieszaniem (`shuffle`), ze stratyfikacją, wykorzystując funkcję `train_test_split` ze Scikit-learn'a.\n",
        "3. Uzupełnij wartości brakujące średnią wartością cechy z pomocą klasy `SimpleImputer`.\n",
        "\n",
        "**Uwaga:**\n",
        "- jak wcześniej, sugerowane jest użycie `if` w podpunkcie 1,\n",
        "- pamiętaj o uwzględnieniu stałego ziarna `random_state=0`, aby wyniki były **reprodukowalne (reproducible)**,\n",
        "- `stratify` oczekuje wektora klas,\n",
        "- wartości do imputacji trzeba wyestymować na zbiorze treningowym (`.fit()`), a potem zastosować te nauczone wartości na obu podzbiorach (treningowym i testowym)."
      ]
    },
    {
      "cell_type": "code",
      "execution_count": 22,
      "metadata": {
        "editable": true,
        "execution": {
          "iopub.execute_input": "2024-11-05T09:43:10.645317Z",
          "iopub.status.busy": "2024-11-05T09:43:10.645011Z",
          "iopub.status.idle": "2024-11-05T09:43:10.651879Z",
          "shell.execute_reply": "2024-11-05T09:43:10.650988Z",
          "shell.execute_reply.started": "2024-11-05T09:43:10.645262Z"
        },
        "id": "asEvYDsfKN3D",
        "pycharm": {
          "name": "#%%\n"
        },
        "tags": [
          "ex"
        ]
      },
      "outputs": [],
      "source": [
        "# your_code\n",
        "if \"Attr37\" in X.columns:\n",
        "    X = X.drop(columns=[\"Attr37\"])\n",
        "else:\n",
        "    print(\"Attr37 already removed\")\n",
        "\n"
      ]
    },
    {
      "cell_type": "code",
      "execution_count": 23,
      "metadata": {
        "execution": {
          "iopub.execute_input": "2024-11-05T09:43:10.656531Z",
          "iopub.status.busy": "2024-11-05T09:43:10.654331Z",
          "iopub.status.idle": "2024-11-05T09:43:12.125792Z",
          "shell.execute_reply": "2024-11-05T09:43:12.125220Z",
          "shell.execute_reply.started": "2024-11-05T09:43:10.656404Z"
        },
        "id": "_QBP21tcLx3r"
      },
      "outputs": [],
      "source": [
        "from sklearn.model_selection import train_test_split\n",
        "X_train, X_test, y_train, y_test = train_test_split(X, class_series, test_size=0.2, random_state=0, shuffle=True, stratify=class_series)\n"
      ]
    },
    {
      "cell_type": "code",
      "execution_count": 24,
      "metadata": {
        "execution": {
          "iopub.execute_input": "2024-11-05T09:43:12.126926Z",
          "iopub.status.busy": "2024-11-05T09:43:12.126471Z",
          "iopub.status.idle": "2024-11-05T09:43:12.344134Z",
          "shell.execute_reply": "2024-11-05T09:43:12.343393Z",
          "shell.execute_reply.started": "2024-11-05T09:43:12.126904Z"
        },
        "id": "53wrkCSvL7X-"
      },
      "outputs": [],
      "source": [
        "from sklearn.impute import SimpleImputer\n",
        "\n",
        "imputer = SimpleImputer(strategy='mean')\n",
        "imputer.fit(X_train)\n",
        "\n",
        "X_train = pd.DataFrame(imputer.transform(X_train), columns=X_train.columns)\n",
        "X_test = pd.DataFrame(imputer.transform(X_test), columns=X_test.columns)\n"
      ]
    },
    {
      "cell_type": "code",
      "execution_count": 25,
      "metadata": {
        "colab": {
          "base_uri": "https://localhost:8080/"
        },
        "editable": true,
        "execution": {
          "iopub.execute_input": "2024-11-05T09:43:12.344942Z",
          "iopub.status.busy": "2024-11-05T09:43:12.344660Z",
          "iopub.status.idle": "2024-11-05T09:43:12.351702Z",
          "shell.execute_reply": "2024-11-05T09:43:12.350674Z",
          "shell.execute_reply.started": "2024-11-05T09:43:12.344922Z"
        },
        "id": "nOEwEr6zKN3D",
        "outputId": "b932768c-ea8f-4632-d27a-9a34ec2f0e99",
        "tags": [
          "ex"
        ]
      },
      "outputs": [
        {
          "output_type": "stream",
          "name": "stdout",
          "text": [
            "Solution is correct!\n"
          ]
        }
      ],
      "source": [
        "import numpy as np\n",
        "\n",
        "assert \"Attr37\" not in X.columns\n",
        "assert not np.any(np.isnan(X_train))\n",
        "assert not np.any(np.isnan(X_test))\n",
        "\n",
        "print(\"Solution is correct!\")"
      ]
    },
    {
      "cell_type": "markdown",
      "metadata": {
        "editable": true,
        "id": "SH4dqy59KN3D",
        "pycharm": {
          "name": "#%% md\n"
        },
        "tags": []
      },
      "source": [
        "## Prosta klasyfikacja"
      ]
    },
    {
      "cell_type": "markdown",
      "metadata": {
        "editable": true,
        "id": "LCuWH7hRKN3E",
        "pycharm": {
          "name": "#%% md\n"
        },
        "tags": []
      },
      "source": [
        "Zanim przejdzie się do modeli bardziej złożonych, trzeba najpierw wypróbować coś prostego, żeby mieć punkt odniesienia. Tworzy się dlatego **modele bazowe (baselines)**.\n",
        "\n",
        "W naszym przypadku będzie to **drzewo decyzyjne (decision tree)**. Jest to drzewo binarne z decyzjami if-else, prowadzącymi do klasyfikacji danego przykładu w liściu. Każdy podział w drzewie to pytanie postaci \"Czy wartość cechy X jest większa lub równa Y?\". Trening takiego drzewa to prosty algorytm zachłanny, bardzo przypomina budowę zwykłego drzewa binarnego. Ma on następujące kroki dla każdego węzła tego drzewa:\n",
        "1. Sprawdź po kolei wszystkie możliwe punkty podziału, czyli każdą (unikalną) wartość każdej cechy, po kolei.\n",
        "2. Dla każdego przypadku podziel zbiór na 2 części: niespełniający warunku (lewy potomek) i spełniający warunek (prawy potomek).\n",
        "3. Oblicz jakość podziału według wybranej funkcji jakości. Im lepiej warunek rozdziela klasy od siebie (imbardziej zunifikowane są węzły-dzieci), tym wyższa jakość podziału. Innymi słowy, chcemy, żeby do jednego dziecka trafiła jedna klasa, a do drugiego druga.\n",
        "4. Wybierz podział o najwyższej jakości.\n",
        "\n",
        "Taki algorytm wykonuje się rekurencyjnie, aż otrzymamy węzeł czysty (pure leaf), czyli taki, w którym są przykłady z tylko jednej klasy. Typowo wykorzystywaną funkcją jakości (kryterium podziału) jest entropia Shannona - im niższa entropia, tym bardziej jednolite są klasy w węźle (czyli wybieramy podział o najniższej entropii).\n",
        "\n",
        "Powyższe wytłumaczenie algorytmu jest oczywiście nieformalne i dość skrótowe. Doskonałe tłumaczenie, z interaktywnymi wizualizacjami, dostępne jest [tutaj](https://mlu-explain.github.io/decision-tree/). W formie filmów - [tutaj](https://www.youtube.com/watch?v=ZVR2Way4nwQ) oraz [tutaj](https://www.youtube.com/watch?v=_L39rN6gz7Y). Dla drzew do regresji - [ten film](https://www.youtube.com/watch?v=g9c66TUylZ4).\n",
        "\n",
        "<img src = https://miro.medium.com/max/1838/1*WyTsLwcAXivFCgNtF0OPqA.png width = \"642\" height = \"451\" >\n",
        "\n",
        "Warto zauważyć, że taka konstrukcja prowadzi zawsze do overfittingu. Otrzymanie liści czystych oznacza, że mamy 100% dokładności na zbiorze treningowym, czyli perfekcyjnie przeuczony klasyfikator. W związku z tym nasze predykcje mają bardzo niski bias, ale bardzo dużą wariancję. Pomimo tego drzewa potrafią dać bardzo przyzwoite wyniki, a w celu ich poprawy można je regularyzować, aby mieć mniej \"rozrośnięte\" drzewo. [Film dla zainteresowanych](https://www.youtube.com/watch?v=D0efHEJsfHo).\n"
      ]
    },
    {
      "cell_type": "markdown",
      "metadata": {
        "editable": true,
        "id": "OkpBzpFkKN3E",
        "tags": []
      },
      "source": [
        "Mając wytrenowany klasyfikator, trzeba oczywiście sprawdzić, jak dobrze on sobie radzi. Tu natrafiamy na kolejny problem z klasyfikacją niezbalansowaną - zwykła celność (accuracy) na pewno nie zadziała! Typowo wykorzystuje się AUC, nazywane też AUROC (Area Under Receiver Operating Characteristic), bo metryka ta uwzględnia niezbalansowanie klas.\n",
        "\n",
        "Bardzo dobre i bardziej szczegółowe wytłumaczenie, z interktywnymi wizualizacjami, można znaleć [tutaj](https://mlu-explain.github.io/roc-auc/). Dla preferujących filmy - [tutaj](https://www.youtube.com/watch?v=4jRBRDbJemM).\n",
        "\n",
        "Co ważne, z definicji AUROC, trzeba w niej użyć **prawdopodobieństw klasy pozytywnej** (klasy 1). W Scikit-learn'ie zwraca je metoda `.predict_proba()`, która w kolejnych kolumnach zwraca prawdopodobieństwa poszczególnych klas."
      ]
    },
    {
      "cell_type": "markdown",
      "metadata": {
        "editable": true,
        "id": "GZPdGdNaKN3E",
        "tags": [
          "ex"
        ]
      },
      "source": [
        "### Zadanie 3 (0.75 punktu)"
      ]
    },
    {
      "cell_type": "markdown",
      "metadata": {
        "editable": true,
        "id": "-V_eGqvAKN3E",
        "tags": [
          "ex"
        ]
      },
      "source": [
        "1. Wytrenuj klasyfikator drzewa decyzyjnego (klasa `DecisionTreeClassifier`). Użyj entropii jako kryterium podziału.\n",
        "2. Oblicz i wypisz AUROC na zbiorze testowym dla drzewa decyzyjnego (funkcja `roc_auc_score`).\n",
        "3. Skomentuj wynik - czy twoim zdaniem osiągnięty AUROC to dużo czy mało, biorąc pod uwagę możliwy zakres wartości tej metryki?\n",
        "\n",
        "**Uwaga:**\n",
        "- pamiętaj o użyciu stałego ziarna `random_state=0`,\n",
        "- jeżeli drzewo nie wyświetli się samo, użyj `plt.show()` z Matplotliba,\n",
        "- pamiętaj o tym, żeby przekazać do metryki AUROC **prawdopodobieństwa klasy pozytywnej**, a nie binarne predykcje!"
      ]
    },
    {
      "cell_type": "code",
      "execution_count": 26,
      "metadata": {
        "colab": {
          "base_uri": "https://localhost:8080/",
          "height": 653
        },
        "execution": {
          "iopub.execute_input": "2024-11-05T09:43:12.354160Z",
          "iopub.status.busy": "2024-11-05T09:43:12.352916Z",
          "iopub.status.idle": "2024-11-05T09:43:20.503822Z",
          "shell.execute_reply": "2024-11-05T09:43:20.502980Z",
          "shell.execute_reply.started": "2024-11-05T09:43:12.354023Z"
        },
        "id": "QOSSomeMhDX5",
        "outputId": "c20ad371-225b-4940-ab25-a107964e170e"
      },
      "outputs": [
        {
          "output_type": "display_data",
          "data": {
            "text/plain": [
              "<Figure size 1200x800 with 1 Axes>"
            ],
            "image/png": "[encoded data removed]"
          },
          "metadata": {}
        }
      ],
      "source": [
        "# your_code\n",
        "from sklearn.tree import DecisionTreeClassifier, plot_tree\n",
        "from sklearn.metrics import roc_auc_score\n",
        "\n",
        "decision_tree = DecisionTreeClassifier(criterion=\"entropy\")\n",
        "decision_tree.fit(X_train, y_train)\n",
        "\n",
        "#Probability of positive class prediction\n",
        "y_pred_proba = decision_tree.predict_proba(X_test)[:, 1]\n",
        "auroc = roc_auc_score(y_test, y_pred_proba)\n",
        "\n",
        "\n",
        "plt.figure(figsize=(12, 8))\n",
        "plot_tree(decision_tree, filled=True, feature_names=X_train.columns, class_names=[\"Class 0\", \"Class 1\"]);\n",
        "plt.show()"
      ]
    },
    {
      "cell_type": "code",
      "execution_count": 27,
      "metadata": {
        "colab": {
          "base_uri": "https://localhost:8080/"
        },
        "execution": {
          "iopub.execute_input": "2024-11-05T09:43:20.505031Z",
          "iopub.status.busy": "2024-11-05T09:43:20.504687Z",
          "iopub.status.idle": "2024-11-05T09:43:20.509280Z",
          "shell.execute_reply": "2024-11-05T09:43:20.508656Z",
          "shell.execute_reply.started": "2024-11-05T09:43:20.505014Z"
        },
        "id": "qGKfSUfNhF5o",
        "outputId": "84071713-b848-490c-c1d6-f8e71f2de24d"
      },
      "outputs": [
        {
          "output_type": "stream",
          "name": "stdout",
          "text": [
            "0.7309912309912311\n"
          ]
        }
      ],
      "source": [
        "print(auroc)"
      ]
    },
    {
      "cell_type": "code",
      "execution_count": 28,
      "metadata": {
        "colab": {
          "base_uri": "https://localhost:8080/"
        },
        "editable": true,
        "execution": {
          "iopub.execute_input": "2024-11-05T09:43:20.510160Z",
          "iopub.status.busy": "2024-11-05T09:43:20.509956Z",
          "iopub.status.idle": "2024-11-05T09:43:20.516527Z",
          "shell.execute_reply": "2024-11-05T09:43:20.515807Z",
          "shell.execute_reply.started": "2024-11-05T09:43:20.510141Z"
        },
        "id": "vSbj6Lr9KN3E",
        "outputId": "35a8c318-0818-4523-c7ca-ca9a19e828d5",
        "tags": [
          "ex"
        ]
      },
      "outputs": [
        {
          "output_type": "stream",
          "name": "stdout",
          "text": [
            "Solution is correct!\n"
          ]
        }
      ],
      "source": [
        "assert auroc > 0.7\n",
        "\n",
        "print(\"Solution is correct!\")"
      ]
    },
    {
      "cell_type": "markdown",
      "metadata": {
        "editable": true,
        "id": "Hhzr4CRJKN3E",
        "pycharm": {
          "name": "#%% md\n"
        },
        "tags": [
          "ex"
        ]
      },
      "source": [
        "\n",
        "Model radzi sobie z rozróżnianiem klas, jako że klasyfikator osiągnął wynik ponad 0.7, a możliwe wartości są od 0 do 1."
      ]
    },
    {
      "cell_type": "markdown",
      "metadata": {
        "editable": true,
        "id": "zPVeDeHVKN3F",
        "pycharm": {
          "name": "#%% md\n"
        },
        "tags": []
      },
      "source": [
        "## Uczenie zespołowe, bagging, lasy losowe"
      ]
    },
    {
      "cell_type": "markdown",
      "metadata": {
        "editable": true,
        "id": "eukYPPz8KN3F",
        "pycharm": {
          "name": "#%% md\n"
        },
        "tags": []
      },
      "source": [
        "Bardzo często wiele klasyfikatorów działających razem daje lepsze wyniki niż pojedynczy klasyfikator. Takie podejście nazywa się **uczeniem zespołowym (ensemble learning)**. Istnieje wiele różnych podejść do tworzenia takich klasyfikatorów złożonych (ensemble classifiers).\n",
        "\n",
        "Podstawową metodą jest **bagging**:\n",
        "1. Wylosuj N (np. 100, 500, ...) próbek boostrapowych (boostrap sample) ze zbioru treningowego. Próbka boostrapowa to po prostu losowanie ze zwracaniem, gdzie dla wejściowego zbioru z M wierszami losujemy M próbek (czyli tyle ile było w początkowym zbiorze), spośród N wylosowanych próbek. Będą tam powtórzenia, średnio nawet 1/3, ale się tym nie przejmujemy.\n",
        "2. Wytrenuj klasyfikator bazowy (base classifier) na każdej z próbek boostrapowych.\n",
        "3. Stwórz klasyfikator złożony poprzez uśrednienie predykcji każdego z klasyfikatorów bazowych.\n",
        "\n",
        "<img src = https://upload.wikimedia.org/wikipedia/commons/thumb/c/c8/Ensemble_Bagging.svg/440px-Ensemble_Bagging.svg.png width = \"440\" height = \"248\" >\n",
        "\n",
        "Typowo klasyfikatory bazowe są bardzo proste, żeby można było szybko wytrenować ich dużą liczbę. Prawie zawsze używa się do tego drzew decyzyjnych. Dla klasyfikacji uśrednienie wyników polega na głosowaniu - dla nowej próbki każdy klasyfikator bazowy ją klasyfikuje, sumuje się głosy na każdą klasę i zwraca najbardziej popularną decyzję.\n",
        "\n",
        "Taki sposób uczenia zmniejsza wariancję klasyfikatora. Intuicyjnie, skoro coś uśredniamy, to siłą rzeczy będzie mniej rozrzucone, bo dużo ciężej będzie osiągnąć jakąś skrajność. Redukuje to też overfitting.\n",
        "\n",
        "**Lasy losowe (Random Forests)** to ulepszenie baggingu. Zaobserwowano, że pomimo losowania próbek boostrapowych, w baggingu poszczególne drzewa są do siebie bardzo podobne (są skorelowane), używają podobnych cech ze zbioru. My natomiast chcemy zróżnicowania, żeby mieć niski bias - redukcją wariancji zajmuje się uśrednianie. Dlatego używa się metody losowej podprzestrzeni (random subspace method) - przy każdym podziale drzewa losuje się tylko pewien podzbiór cech, których możemy użyć do tego podziału. Typowo jest to pierwiastek kwadratowy z ogólnej liczby cech.\n",
        "\n",
        "Zarówno bagging, jak i lasy losowe mają dodatkowo bardzo przyjemną własność - są mało czułe na hiperparametry, szczególnie na liczbę drzew. W praktyce wystarczy ustawić 500 czy 1000 drzew i klasyfikator będzie dobrze działać. Dalsze dostrajanie hiperparametrów może jeszcze trochę poprawić wyniki, ale nie tak bardzo, jak przy innych klasyfikatorach. Jest to zatem doskonały wybór domyślny, kiedy nie wiemy, jakiego klasyfikatora użyć.\n",
        "\n",
        "Dodatkowo jest to problem **embarassingly parallel** - drzewa można trenować w 100% równolegle, dzięki czemu jest to dodatkowo wydajna obliczeniowo metoda.\n",
        "\n",
        "Głębsze wytłumaczenie, z interaktywnymi wizualizacjami, można znaleźć [tutaj](https://mlu-explain.github.io/random-forest/). Dobrze tłumaczy je też [ta seria filmów](https://www.youtube.com/watch?v=J4Wdy0Wc_xQ&t=480s)."
      ]
    },
    {
      "cell_type": "markdown",
      "metadata": {
        "editable": true,
        "id": "_bVlBnLKKN3F",
        "tags": [
          "ex"
        ]
      },
      "source": [
        "### Zadanie 4 (0.5 punktu)"
      ]
    },
    {
      "cell_type": "markdown",
      "metadata": {
        "editable": true,
        "id": "QPsZNVQtKN3F",
        "tags": [
          "ex"
        ]
      },
      "source": [
        "1. Wytrenuj klasyfikator Random Forest (klasa `RandomForestClassifier`). Użyj 500 drzew i entropii jako kryterium podziału.\n",
        "2. Sprawdź AUROC na zbiorze testowym.\n",
        "3. Skomentuj wynik w odniesieniu do drzewa decyzyjnego.\n",
        "\n",
        "**Uwaga:** pamiętaj o ustawieniu `random_state=0`. Dla przyspieszenia ustaw `n_jobs=-1` (użyje tylu procesów, ile masz dostępnych rdzeni procesora). Pamiętaj też o przekazaniu prawdopodobieństw do metryki AUROC."
      ]
    },
    {
      "cell_type": "code",
      "execution_count": 29,
      "metadata": {
        "colab": {
          "base_uri": "https://localhost:8080/"
        },
        "editable": true,
        "execution": {
          "iopub.execute_input": "2024-11-05T09:43:20.517195Z",
          "iopub.status.busy": "2024-11-05T09:43:20.517004Z",
          "iopub.status.idle": "2024-11-05T09:43:40.266728Z",
          "shell.execute_reply": "2024-11-05T09:43:40.266057Z",
          "shell.execute_reply.started": "2024-11-05T09:43:20.517177Z"
        },
        "id": "jbhw33hHKN3F",
        "outputId": "6a8487da-e3f5-4fa5-e29a-3bf9c0f12d7e",
        "pycharm": {
          "name": "#%%\n"
        },
        "tags": [
          "ex"
        ]
      },
      "outputs": [
        {
          "output_type": "stream",
          "name": "stdout",
          "text": [
            "0.8994111948657404\n"
          ]
        }
      ],
      "source": [
        "# your_code\n",
        "from sklearn.ensemble import RandomForestClassifier\n",
        "random_forest = RandomForestClassifier(n_estimators=500, criterion=\"entropy\", random_state=0, n_jobs = 2)\n",
        "random_forest.fit(X_train, y_train)\n",
        "\n",
        "#prediction for positive class\n",
        "y_pred = random_forest.predict_proba(X_test)[:,1]\n",
        "\n",
        "auroc = roc_auc_score(y_test, y_pred)\n",
        "print(auroc)\n",
        "\n"
      ]
    },
    {
      "cell_type": "code",
      "execution_count": 30,
      "metadata": {
        "colab": {
          "base_uri": "https://localhost:8080/"
        },
        "execution": {
          "iopub.execute_input": "2024-11-05T09:43:40.267693Z",
          "iopub.status.busy": "2024-11-05T09:43:40.267369Z",
          "iopub.status.idle": "2024-11-05T09:43:40.271648Z",
          "shell.execute_reply": "2024-11-05T09:43:40.270786Z",
          "shell.execute_reply.started": "2024-11-05T09:43:40.267671Z"
        },
        "id": "_zJoji7W27cz",
        "outputId": "be35538c-aa03-4f6e-eaec-86e9044ad827"
      },
      "outputs": [
        {
          "output_type": "stream",
          "name": "stdout",
          "text": [
            "96\n"
          ]
        }
      ],
      "source": [
        "import os\n",
        "#number of cors available\n",
        "print(os.cpu_count())\n"
      ]
    },
    {
      "cell_type": "code",
      "execution_count": 31,
      "metadata": {
        "colab": {
          "base_uri": "https://localhost:8080/"
        },
        "editable": true,
        "execution": {
          "iopub.execute_input": "2024-11-05T09:43:40.278747Z",
          "iopub.status.busy": "2024-11-05T09:43:40.278094Z",
          "iopub.status.idle": "2024-11-05T09:43:40.287146Z",
          "shell.execute_reply": "2024-11-05T09:43:40.286122Z",
          "shell.execute_reply.started": "2024-11-05T09:43:40.278698Z"
        },
        "id": "lIBAMEkNKN3K",
        "outputId": "7cc21f7f-a592-44c6-fc39-c01797a81ae5",
        "tags": [
          "ex"
        ]
      },
      "outputs": [
        {
          "output_type": "stream",
          "name": "stdout",
          "text": [
            "Solution is correct!\n"
          ]
        }
      ],
      "source": [
        "assert auroc > 0.85\n",
        "\n",
        "print(\"Solution is correct!\")"
      ]
    },
    {
      "cell_type": "markdown",
      "metadata": {
        "editable": true,
        "id": "UyZwgUJzKN3L",
        "pycharm": {
          "name": "#%% md\n"
        },
        "tags": [
          "ex"
        ]
      },
      "source": [
        "Pojedyncze drzewo decyzyjne dawało wynik ok. 70%, a las losowy 500 drzew daje wynik blisko 90%, zatem jest znacząca poprawa."
      ]
    },
    {
      "cell_type": "markdown",
      "metadata": {
        "editable": true,
        "id": "EayskgQBKN3L",
        "pycharm": {
          "name": "#%% md\n"
        },
        "tags": []
      },
      "source": [
        "Jak zobaczymy poniżej, wynik ten możemy jednak jeszcze ulepszyć!"
      ]
    },
    {
      "cell_type": "markdown",
      "metadata": {
        "editable": true,
        "id": "bT1cX9W6KN3L",
        "pycharm": {
          "name": "#%% md\n"
        },
        "tags": []
      },
      "source": [
        "## Oversampling, SMOTE"
      ]
    },
    {
      "cell_type": "markdown",
      "metadata": {
        "editable": true,
        "id": "wr1b62hvKN3L",
        "pycharm": {
          "name": "#%% md\n"
        },
        "tags": []
      },
      "source": [
        "W przypadku zbiorów niezbalansowanych można dokonać **balansowania (balancing)** zbioru. Są tutaj 2 metody:\n",
        "- **undersampling**: usunięcie przykładów z klasy dominującej\n",
        "- **oversampling**: wygenerowanie dodatkowych przykładów z klasy mniejszościowej\n",
        "\n",
        "Undersampling działa dobrze, kiedy niezbalansowanie jest niewielkie, a zbiór jest duży (możemy sobie pozwolić na usunięcie jego części). Oversampling typowo daje lepsze wyniki, istnieją dla niego bardzo efektywne algorytmy. W przypadku bardzo dużego niezbalansowania można zrobić oba.\n",
        "\n",
        "Typowym algorytmem oversamplingu jest **SMOTE (Synthetic Minority Oversampling TEchnique)**. Działa on następująco:\n",
        "1. Idź po kolei po przykładach z klasy mniejszościowej.\n",
        "2. Znajdź `k` najbliższych przykładów dla próbki, typowo `k=5`.\n",
        "3. Wylosuj tylu sąsiadów, ile trzeba do oversamplingu, np. jeżeli chcemy zwiększyć klasę mniejszościową 3 razy (o 200%), to wylosuj 2 z 5 sąsiadów.\n",
        "4. Dla każdego z wylosowanych sąsiadów wylosuj punkt na linii prostej między próbką a tym sąsiadem. Dodaj ten punkt jako nową próbkę do zbioru.\n",
        "\n",
        "<img src = https://miro.medium.com/max/734/1*yRumRhn89acByodBz0H7oA.png >\n",
        "\n",
        "Taka technika generuje przykłady bardzo podobne do prawdziwych, więc nie zaburza zbioru, a jednocześnie pomaga klasyfikatorom, bo \"zagęszcza\" przestrzeń, w której znajduje się klasa pozytywna.\n",
        "\n",
        "Algorytm SMOTE, jego warianty i inne algorytmy dla problemów niezbalansowanych implementuje biblioteka Imbalanced-learn."
      ]
    },
    {
      "cell_type": "markdown",
      "metadata": {
        "editable": true,
        "execution": {
          "iopub.execute_input": "2024-10-07T13:36:43.138444Z",
          "iopub.status.busy": "2024-10-07T13:36:43.137348Z",
          "iopub.status.idle": "2024-10-07T13:36:43.147546Z",
          "shell.execute_reply": "2024-10-07T13:36:43.144776Z",
          "shell.execute_reply.started": "2024-10-07T13:36:43.138374Z"
        },
        "id": "f7nsDSwDKN3L",
        "tags": [
          "ex"
        ]
      },
      "source": [
        "### Zadanie 5 (1 punkt)"
      ]
    },
    {
      "cell_type": "markdown",
      "metadata": {
        "editable": true,
        "id": "CW-2M1IMKN3L",
        "tags": [
          "ex"
        ]
      },
      "source": [
        "Użyj SMOTE do zbalansowania zbioru treningowego (nie używa się go na zbiorze testowym!). Implementuje to klasa `SMOTE`. Wytrenuj drzewo decyzyjne oraz las losowy na zbalansowanym zbiorze, użyj tych samych argumentów co wcześniej. Pamiętaj o użyciu wszędzie stałego ziarna `random_state=0` oraz przekazaniu prawdopodobieństw do AUROC. Skomentuj wynik.\n",
        "\n",
        "Wartość ROC drzewa decyzyjnego przypisz do zmiennej `tree_roc`, a lasu do `forest_roc`."
      ]
    },
    {
      "cell_type": "code",
      "execution_count": 32,
      "metadata": {
        "colab": {
          "base_uri": "https://localhost:8080/"
        },
        "execution": {
          "iopub.execute_input": "2024-11-05T09:43:40.288773Z",
          "iopub.status.busy": "2024-11-05T09:43:40.288409Z",
          "iopub.status.idle": "2024-11-05T09:43:43.242530Z",
          "shell.execute_reply": "2024-11-05T09:43:43.239158Z",
          "shell.execute_reply.started": "2024-11-05T09:43:40.288746Z"
        },
        "id": "ysM1HMFi7Uq2",
        "outputId": "cfdbf761-54d1-46a0-9095-667c9596ba02"
      },
      "outputs": [
        {
          "output_type": "stream",
          "name": "stdout",
          "text": [
            "Collecting imbalanced-learn\n",
            "  Downloading imbalanced_learn-0.12.4-py3-none-any.whl.metadata (8.3 kB)\n",
            "Requirement already satisfied: numpy>=1.17.3 in /usr/local/lib/python3.10/dist-packages (from imbalanced-learn) (1.26.4)\n",
            "Requirement already satisfied: scipy>=1.5.0 in /usr/local/lib/python3.10/dist-packages (from imbalanced-learn) (1.13.1)\n",
            "Requirement already satisfied: scikit-learn>=1.0.2 in /usr/local/lib/python3.10/dist-packages (from imbalanced-learn) (1.5.2)\n",
            "Requirement already satisfied: joblib>=1.1.1 in /usr/local/lib/python3.10/dist-packages (from imbalanced-learn) (1.4.2)\n",
            "Requirement already satisfied: threadpoolctl>=2.0.0 in /usr/local/lib/python3.10/dist-packages (from imbalanced-learn) (3.5.0)\n",
            "Downloading imbalanced_learn-0.12.4-py3-none-any.whl (258 kB)\n",
            "\u001b[2K   \u001b[90m━━━━━━━━━━━━━━━━━━━━━━━━━━━━━━━━━━━━━━━━\u001b[0m \u001b[32m258.3/258.3 kB\u001b[0m \u001b[31m5.0 MB/s\u001b[0m eta \u001b[36m0:00:00\u001b[0m\n",
            "\u001b[?25hInstalling collected packages: imbalanced-learn\n",
            "Successfully installed imbalanced-learn-0.12.4\n"
          ]
        }
      ],
      "source": [
        "!pip install imbalanced-learn\n"
      ]
    },
    {
      "cell_type": "code",
      "execution_count": 33,
      "metadata": {
        "editable": true,
        "execution": {
          "iopub.execute_input": "2024-11-05T09:43:43.246282Z",
          "iopub.status.busy": "2024-11-05T09:43:43.245508Z",
          "iopub.status.idle": "2024-11-05T09:43:43.652564Z",
          "shell.execute_reply": "2024-11-05T09:43:43.651903Z",
          "shell.execute_reply.started": "2024-11-05T09:43:43.246199Z"
        },
        "id": "FL35n_EPKN3M",
        "pycharm": {
          "name": "#%%\n"
        },
        "tags": [
          "ex"
        ]
      },
      "outputs": [],
      "source": [
        "# your_code\n",
        "from imblearn.over_sampling import SMOTE\n",
        "sm = SMOTE(random_state=0)\n",
        "X_resampled, y_resampled = sm.fit_resample(X_train, y_train)\n"
      ]
    },
    {
      "cell_type": "code",
      "execution_count": 34,
      "metadata": {
        "colab": {
          "base_uri": "https://localhost:8080/"
        },
        "execution": {
          "iopub.execute_input": "2024-11-05T09:43:43.653747Z",
          "iopub.status.busy": "2024-11-05T09:43:43.653292Z",
          "iopub.status.idle": "2024-11-05T09:44:32.062682Z",
          "shell.execute_reply": "2024-11-05T09:44:32.061998Z",
          "shell.execute_reply.started": "2024-11-05T09:43:43.653715Z"
        },
        "id": "PZoz9LlS8iY0",
        "outputId": "9d5bfeb6-3b5a-4a0d-eea7-6640113aa8d9"
      },
      "outputs": [
        {
          "output_type": "stream",
          "name": "stdout",
          "text": [
            "0.7006049506049505\n",
            "0.9047644274917003\n"
          ]
        }
      ],
      "source": [
        "#train one tree on balanced sample\n",
        "decision_tree.fit(X_resampled, y_resampled)\n",
        "\n",
        "y_pred_proba = decision_tree.predict_proba(X_test)[:, 1]\n",
        "tree_roc = roc_auc_score(y_test, y_pred_proba)\n",
        "\n",
        "#train a forest for balanced sample\n",
        "random_forest.fit(X_resampled, y_resampled)\n",
        "\n",
        "y_pred = random_forest.predict_proba(X_test)[:,1]\n",
        "forest_roc = roc_auc_score(y_test, y_pred)\n",
        "\n",
        "print(tree_roc)\n",
        "print(forest_roc)\n"
      ]
    },
    {
      "cell_type": "code",
      "execution_count": 35,
      "metadata": {
        "colab": {
          "base_uri": "https://localhost:8080/"
        },
        "editable": true,
        "execution": {
          "iopub.execute_input": "2024-11-05T09:44:32.063377Z",
          "iopub.status.busy": "2024-11-05T09:44:32.063171Z",
          "iopub.status.idle": "2024-11-05T09:44:32.067887Z",
          "shell.execute_reply": "2024-11-05T09:44:32.067258Z",
          "shell.execute_reply.started": "2024-11-05T09:44:32.063357Z"
        },
        "id": "5qWdx7yAKN3M",
        "outputId": "7f427939-7d45-4e99-9664-2de0a581717c",
        "tags": [
          "ex"
        ]
      },
      "outputs": [
        {
          "output_type": "stream",
          "name": "stdout",
          "text": [
            "Solution is correct!\n"
          ]
        }
      ],
      "source": [
        "assert 0.6 < tree_roc < 0.8\n",
        "assert 0.8 < forest_roc < 0.95\n",
        "\n",
        "print(\"Solution is correct!\")"
      ]
    },
    {
      "cell_type": "markdown",
      "metadata": {
        "editable": true,
        "id": "wOYO5Ht3KN3M",
        "pycharm": {
          "name": "#%% md\n"
        },
        "tags": [
          "ex"
        ]
      },
      "source": [
        "// skomentuj tutaj   \n",
        "Wyniki się nieco poprawiły zarówno dla pojedynczego drzewa jak i lasu, jednak zmiana nie jest duża."
      ]
    },
    {
      "cell_type": "markdown",
      "metadata": {
        "editable": true,
        "id": "2gsnvp53KN3M",
        "pycharm": {
          "name": "#%% md\n"
        },
        "tags": []
      },
      "source": [
        "W dalszej części laboratorium używaj zbioru po zastosowaniu SMOTE do treningu klasyfikatorów."
      ]
    },
    {
      "cell_type": "markdown",
      "metadata": {
        "editable": true,
        "id": "iEIE3KIOKN3M",
        "pycharm": {
          "name": "#%% md\n"
        },
        "tags": []
      },
      "source": [
        "## Dostrajanie (tuning) hiperparametrów"
      ]
    },
    {
      "cell_type": "markdown",
      "metadata": {
        "editable": true,
        "id": "-cJX9VbaKN3N",
        "pycharm": {
          "name": "#%% md\n"
        },
        "tags": []
      },
      "source": [
        "Lasy losowe są stosunkowo mało czułe na dobór hiperparametrów - i dobrze, bo mają ich dość dużo. Można zawsze jednak spróbować to zrobić, a w szczególności najważniejszy jest parametr `max_features`, oznaczający, ile cech losować przy każdym podziale drzewa. Typowo sprawdza się wartości z zakresu `[0.1, 0.5]`.\n",
        "\n",
        "W kwestii szybkości, kiedy dostrajamy hiperparametry, to mniej oczywiste jest, jakiego `n_jobs` użyć. Z jednej strony klasyfikator może być trenowany na wielu procesach, a z drugiej można trenować wiele klasyfikatorów na różnych zestawach hiperparametrów równolegle. Jeżeli nasz klasyfikator bardzo dobrze się uwspółbieżnia (jak Random Forest), to można dać mu nawet wszystkie rdzenie, a za to wypróbowywać kolejne zestawy hiperparametrów sekwencyjnie. Warto ustawić parametr `verbose` na 2 lub więcej, żeby dostać logi podczas długiego treningu i mierzyć czas wykonania. W praktyce ustawia się to metodą prób i błędów."
      ]
    },
    {
      "cell_type": "markdown",
      "metadata": {
        "editable": true,
        "id": "wZI_Usj6KN3N",
        "tags": [
          "ex"
        ]
      },
      "source": [
        "### Zadanie 6 (1 punkt)"
      ]
    },
    {
      "cell_type": "markdown",
      "metadata": {
        "editable": true,
        "id": "KfvfzuGPKN3N",
        "tags": [
          "ex"
        ]
      },
      "source": [
        "1. Dobierz wartość hiperparametru `max_features`:\n",
        "   - użyj grid search z 5 foldami,\n",
        "   - wypróbuj wartości `[0.1, 0.2, 0.3, 0.4, 0.5]`,\n",
        "   - wybierz model o najwyższym AUROC (argument `scoring`).\n",
        "2. Sprawdź, jaka była optymalna wartość `max_features`. Jest to atrybut wytrenowanego `GridSearchCV`.\n",
        "3. Skomentuj wynik. Czy warto było poświęcić czas i zasoby na tę procedurę?\n",
        "4. Wynik przypisz do zmiennej `auroc`.\n",
        "\n",
        "**Uwaga:**\n",
        "- pamiętaj, żeby jako estymatora przekazanego do grid search'a użyć instancji Random Forest, która ma już ustawione `random_state=0` i `n_jobs`"
      ]
    },
    {
      "cell_type": "code",
      "execution_count": 36,
      "metadata": {
        "colab": {
          "base_uri": "https://localhost:8080/"
        },
        "editable": true,
        "execution": {
          "iopub.execute_input": "2024-11-05T09:44:32.069509Z",
          "iopub.status.busy": "2024-11-05T09:44:32.068869Z",
          "iopub.status.idle": "2024-11-05T10:22:13.278683Z",
          "shell.execute_reply": "2024-11-05T10:22:13.277999Z",
          "shell.execute_reply.started": "2024-11-05T09:44:32.069469Z"
        },
        "id": "OohOdpPqKN3N",
        "outputId": "09aa3b29-43e0-4bcd-9eae-6585c187b509",
        "pycharm": {
          "is_executing": true,
          "name": "#%%\n"
        },
        "tags": [
          "ex"
        ]
      },
      "outputs": [
        {
          "output_type": "stream",
          "name": "stdout",
          "text": [
            "Fitting 5 folds for each of 5 candidates, totalling 25 fits\n",
            "[CV] END ...................................max_features=0.1; total time=  24.2s\n",
            "[CV] END ...................................max_features=0.1; total time=  24.0s\n",
            "[CV] END ...................................max_features=0.1; total time=  24.1s\n",
            "[CV] END ...................................max_features=0.1; total time=  24.3s\n",
            "[CV] END ...................................max_features=0.1; total time=  24.1s\n",
            "[CV] END ...................................max_features=0.2; total time=  43.4s\n",
            "[CV] END ...................................max_features=0.2; total time=  43.3s\n",
            "[CV] END ...................................max_features=0.2; total time=  43.4s\n",
            "[CV] END ...................................max_features=0.2; total time=  43.7s\n",
            "[CV] END ...................................max_features=0.2; total time=  43.6s\n",
            "[CV] END ...................................max_features=0.3; total time= 1.0min\n",
            "[CV] END ...................................max_features=0.3; total time= 1.0min\n",
            "[CV] END ...................................max_features=0.3; total time= 1.0min\n",
            "[CV] END ...................................max_features=0.3; total time= 1.0min\n",
            "[CV] END ...................................max_features=0.3; total time= 1.0min\n",
            "[CV] END ...................................max_features=0.4; total time= 1.4min\n",
            "[CV] END ...................................max_features=0.4; total time= 1.4min\n",
            "[CV] END ...................................max_features=0.4; total time= 1.4min\n",
            "[CV] END ...................................max_features=0.4; total time= 1.4min\n",
            "[CV] END ...................................max_features=0.4; total time= 1.4min\n",
            "[CV] END ...................................max_features=0.5; total time= 1.7min\n",
            "[CV] END ...................................max_features=0.5; total time= 1.7min\n",
            "[CV] END ...................................max_features=0.5; total time= 1.7min\n",
            "[CV] END ...................................max_features=0.5; total time= 1.7min\n",
            "[CV] END ...................................max_features=0.5; total time= 1.7min\n"
          ]
        }
      ],
      "source": [
        "# your_code\n",
        "from sklearn.model_selection import GridSearchCV\n",
        "\n",
        "params = {\"max_features\": [0.1, 0.2, 0.3, 0.4, 0.5]}\n",
        "grid_search = GridSearchCV(estimator=random_forest, param_grid=params, cv=5, verbose=2, scoring=\"roc_auc\")\n",
        "\n",
        "#fit grid_search model to resampled training set\n",
        "grid_search.fit(X_resampled, y_resampled)\n",
        "\n",
        "#assign the best result to auorc\n",
        "auroc = grid_search.best_score_\n",
        "\n",
        "\n"
      ]
    },
    {
      "cell_type": "markdown",
      "metadata": {
        "id": "deUe2OVxA3kk"
      },
      "source": [
        "GridSearchCV (Grid Search Cross-Validation) is a technique used in machine learning for hyperparameter tuning, which involves searching for the optimal hyperparameters for a given model. It exhaustively tries out a specified set of hyperparameters for an estimator (a model) and evaluates each combination using cross-validation.\n",
        "\n",
        "https://medium.com/@Mandeep2002/gridsearchcv-key-concepts-8f98ceb633e4"
      ]
    },
    {
      "cell_type": "code",
      "execution_count": 37,
      "metadata": {
        "colab": {
          "base_uri": "https://localhost:8080/"
        },
        "execution": {
          "iopub.execute_input": "2024-11-05T10:22:13.279801Z",
          "iopub.status.busy": "2024-11-05T10:22:13.279370Z",
          "iopub.status.idle": "2024-11-05T10:22:13.284850Z",
          "shell.execute_reply": "2024-11-05T10:22:13.284352Z",
          "shell.execute_reply.started": "2024-11-05T10:22:13.279771Z"
        },
        "id": "ChRT-hD3Aizh",
        "outputId": "a50cd9d9-81fa-4c48-8378-7c373beaf2ca"
      },
      "outputs": [
        {
          "output_type": "execute_result",
          "data": {
            "text/plain": [
              "0.2"
            ]
          },
          "metadata": {},
          "execution_count": 37
        }
      ],
      "source": [
        "grid_search.best_params_[\"max_features\"]"
      ]
    },
    {
      "cell_type": "code",
      "execution_count": 38,
      "metadata": {
        "colab": {
          "base_uri": "https://localhost:8080/"
        },
        "execution": {
          "iopub.execute_input": "2024-11-05T10:22:13.285565Z",
          "iopub.status.busy": "2024-11-05T10:22:13.285379Z",
          "iopub.status.idle": "2024-11-05T10:22:13.298522Z",
          "shell.execute_reply": "2024-11-05T10:22:13.297914Z",
          "shell.execute_reply.started": "2024-11-05T10:22:13.285548Z"
        },
        "id": "0CjifNwaGi41",
        "outputId": "4538f264-5ec4-4f24-d0f1-f0828db77e08"
      },
      "outputs": [
        {
          "output_type": "stream",
          "name": "stdout",
          "text": [
            "0.9984181313459791\n"
          ]
        }
      ],
      "source": [
        "print(auroc)"
      ]
    },
    {
      "cell_type": "code",
      "execution_count": 39,
      "metadata": {
        "colab": {
          "base_uri": "https://localhost:8080/"
        },
        "editable": true,
        "execution": {
          "iopub.execute_input": "2024-11-05T10:22:13.299468Z",
          "iopub.status.busy": "2024-11-05T10:22:13.299217Z",
          "iopub.status.idle": "2024-11-05T10:22:13.305336Z",
          "shell.execute_reply": "2024-11-05T10:22:13.304757Z",
          "shell.execute_reply.started": "2024-11-05T10:22:13.299452Z"
        },
        "id": "BL5hje3zKN3N",
        "outputId": "10937026-de45-42b9-bc75-ac802899ef89",
        "tags": [
          "ex"
        ]
      },
      "outputs": [
        {
          "output_type": "stream",
          "name": "stdout",
          "text": [
            "Solution is correct!\n"
          ]
        }
      ],
      "source": [
        "assert 0.9 <= auroc <= 1\n",
        "\n",
        "print(\"Solution is correct!\")"
      ]
    },
    {
      "cell_type": "markdown",
      "metadata": {
        "editable": true,
        "id": "TTD6PFmbKN3N",
        "pycharm": {
          "name": "#%% md\n"
        },
        "tags": [
          "ex"
        ]
      },
      "source": [
        "// skomentuj tutaj  \n",
        "Wydajność lasu losowego poprawiła się z 90% do blisko 100%, więc było warto w tym przypadku dokonać doboru hiperparametru. Domyśle max_features dla RandomForestClassifier jest sqrt z liczby cech tu najlepsze okazało się 0.2"
      ]
    },
    {
      "cell_type": "markdown",
      "metadata": {
        "editable": true,
        "id": "_FJHrvAxKN3O",
        "pycharm": {
          "name": "#%% md\n"
        },
        "tags": []
      },
      "source": [
        "W praktycznych zastosowaniach osoba trenująca model wedle własnego uznana, doświadczenia, dostępnego czasu i zasobów wybiera, czy dostrajać hiperparametry i w jak szerokim zakresie. Dla Random Forest na szczęście często może nie być znaczącej potrzeby i za to go lubimy :)"
      ]
    },
    {
      "cell_type": "markdown",
      "metadata": {
        "editable": true,
        "id": "pd0TuHipKN3O",
        "pycharm": {
          "name": "#%% md\n"
        },
        "tags": []
      },
      "source": [
        "**Random Forest - podsumowanie**\n",
        "\n",
        "1. Model oparty o uczenie zespołowe.\n",
        "2. Kluczowe elementy:\n",
        "   - bagging: uczenie wielu klasyfikatorów na próbkach boostrapowych,\n",
        "   - metoda losowej podprzestrzeni: losujemy podzbiór cech do każdego podziału drzewa,\n",
        "   - uśredniamy głosy klasyfikatorów.\n",
        "3. Dość odporny na overfitting, zmniejsza wariancję błędu dzięki uśrednianiu.\n",
        "4. Mało czuły na hiperparametry.\n",
        "5. Przeciętnie daje bardzo dobre wyniki, doskonały wybór domyślny przy wybieraniu algorytmu klasyfikacji."
      ]
    },
    {
      "cell_type": "markdown",
      "metadata": {
        "editable": true,
        "id": "cqRPxVzNKN3O",
        "pycharm": {
          "name": "#%% md\n"
        },
        "tags": []
      },
      "source": [
        "## Boosting"
      ]
    },
    {
      "cell_type": "markdown",
      "metadata": {
        "editable": true,
        "id": "cKvPBaGYKN3O",
        "pycharm": {
          "name": "#%% md\n"
        },
        "tags": []
      },
      "source": [
        "Drugą bardzo ważną grupą algorytmów ensemblingu jest **boosting**, też oparty o drzewa decyzyjne. O ile Random Forest trenował wszystkie klasyfikatory bazowe równolegle i je uśredniał, o tyle boosting robi to sekwencyjnie. Drzewa te uczą się na całym zbiorze, nie na próbkach boostrapowych. Idea jest następująca: trenujemy drzewo decyzyjne, radzi sobie przeciętnie i popełnia błędy na częsci przykładów treningowych. Dokładamy kolejne, ale znające błędy swojego poprzednika, dzięki czemu może to uwzględnić i je poprawić. W związku z tym \"boostuje\" się dzięki wiedzy od poprzednika. Dokładamy kolejne drzewa zgodnie z tą samą zasadą.\n",
        "\n",
        "Jak uczyć się na błędach poprzednika? Jest to pewna **funkcja kosztu** (błędu), którą chcemy zminimalizować. Zakłada się jakąś jej konkretną postać, np. squared error dla regresji, albo logistic loss dla klasyfikacji. Później wykorzystuje się spadek wzdłuż gradientu (gradient descent), aby nauczyć się, w jakim kierunku powinny optymalizować kolejne drzewa, żeby zminimalizować błędy poprzednika. Jest to konkretnie **gradient boosting**, absolutnie najpopularniejsza forma boostingu, i jeden z najpopularniejszych i osiągających najlepsze wyniki algorytmów ML.\n",
        "\n",
        "Tyle co do intuicji. Ogólny algorytm gradient boostingu jest trochę bardziej skomplikowany. Bardzo dobrze i krok po kroku tłumaczy go [ta seria filmów na YT](https://www.youtube.com/watch?v=3CC4N4z3GJc). Szczególnie ważne implementacje gradient boostingu to **XGBoost (Extreme Gradient Boosting)** oraz **LightGBM (Light Gradient Boosting Machine)**. XGBoost był prawdziwym przełomem w ML, uzyskując doskonałe wyniki i bardzo dobrze się skalując - był wykorzystany w CERNie do wykrywania cząstki Higgsa w zbiorze z pomiarów LHC mającym 10 milionów próbek. Jego implementacja jest dość złożona, ale dobrze tłumaczy ją [inna seria filmików na YT](https://www.youtube.com/watch?v=OtD8wVaFm6E).\n",
        "\n",
        "![](https://github.com/apohllo/sztuczna-inteligencja/blob/master/lab2/xgboost.png?raw=1)\n",
        "\n",
        "Obecnie najczęściej wykorzystuje się LightGBM. Został stworzony przez Microsoft na podstawie doświadczeń z XGBoostem. Został jeszcze bardziej ulepszony i przyspieszony, ale różnice są głównie implementacyjne. Różnice dobrze tłumaczy [ta prezentacja z konferencji PyData](https://www.youtube.com/watch?v=5CWwwtEM2TA) oraz [prezentacja Microsoftu](https://www.youtube.com/watch?v=5nKSMXBFhes). Dla zainteresowanych - [praktyczne aspekty LightGBM](https://\n",
        "www.kaggle.com/code/prashant111/lightgbm-classifier-in-python/notebook)."
      ]
    },
    {
      "cell_type": "markdown",
      "metadata": {
        "editable": true,
        "id": "AkfkE6IWKN3O",
        "tags": [
          "ex"
        ]
      },
      "source": [
        "### Zadanie 7 (0.5 punktu)"
      ]
    },
    {
      "cell_type": "markdown",
      "metadata": {
        "editable": true,
        "id": "d_lgLW15KN3O",
        "tags": [
          "ex"
        ]
      },
      "source": [
        "1. Wytrenuj klasyfikator LightGBM (klasa `LGBMClassifier`). Przekaż `importance_type=\"gain\"` - przyda nam się to za chwilę.\n",
        "2. Sprawdź AUROC na zbiorze testowym.\n",
        "3. Skomentuj wynik w odniesieniu do wcześniejszych algorytmów.\n",
        "\n",
        "Pamiętaj o `random_state`, `n_jobs` i prawdopodobieństwach dla AUROC."
      ]
    },
    {
      "cell_type": "code",
      "execution_count": 40,
      "metadata": {
        "colab": {
          "base_uri": "https://localhost:8080/"
        },
        "execution": {
          "iopub.execute_input": "2024-11-05T10:22:13.306164Z",
          "iopub.status.busy": "2024-11-05T10:22:13.305972Z",
          "iopub.status.idle": "2024-11-05T10:22:18.744341Z",
          "shell.execute_reply": "2024-11-05T10:22:18.741156Z",
          "shell.execute_reply.started": "2024-11-05T10:22:13.306149Z"
        },
        "id": "hMg6PtEoB3Vh",
        "outputId": "248223fa-1f30-45e6-ac7f-eb002b72da21"
      },
      "outputs": [
        {
          "output_type": "stream",
          "name": "stdout",
          "text": [
            "Collecting lightgbm\n",
            "  Downloading lightgbm-4.5.0-py3-none-manylinux_2_28_x86_64.whl.metadata (17 kB)\n",
            "Requirement already satisfied: numpy>=1.17.0 in /usr/local/lib/python3.10/dist-packages (from lightgbm) (1.26.4)\n",
            "Requirement already satisfied: scipy in /usr/local/lib/python3.10/dist-packages (from lightgbm) (1.13.1)\n",
            "Downloading lightgbm-4.5.0-py3-none-manylinux_2_28_x86_64.whl (3.6 MB)\n",
            "\u001b[?25l   \u001b[90m━━━━━━━━━━━━━━━━━━━━━━━━━━━━━━━━━━━━━━━━\u001b[0m \u001b[32m0.0/3.6 MB\u001b[0m \u001b[31m?\u001b[0m eta \u001b[36m-:--:--\u001b[0m\r\u001b[2K   \u001b[91m━━\u001b[0m\u001b[91m╸\u001b[0m\u001b[90m━━━━━━━━━━━━━━━━━━━━━━━━━━━━━━━━━━━━━\u001b[0m \u001b[32m0.3/3.6 MB\u001b[0m \u001b[31m7.7 MB/s\u001b[0m eta \u001b[36m0:00:01\u001b[0m\r\u001b[2K   \u001b[91m━━━━━━━━━━━━━━━━━━━━━━━━━━━\u001b[0m\u001b[90m╺\u001b[0m\u001b[90m━━━━━━━━━━━━\u001b[0m \u001b[32m2.4/3.6 MB\u001b[0m \u001b[31m35.2 MB/s\u001b[0m eta \u001b[36m0:00:01\u001b[0m\r\u001b[2K   \u001b[90m━━━━━━━━━━━━━━━━━━━━━━━━━━━━━━━━━━━━━━━━\u001b[0m \u001b[32m3.6/3.6 MB\u001b[0m \u001b[31m34.8 MB/s\u001b[0m eta \u001b[36m0:00:00\u001b[0m\n",
            "\u001b[?25hInstalling collected packages: lightgbm\n",
            "Successfully installed lightgbm-4.5.0\n"
          ]
        }
      ],
      "source": [
        "!pip install lightgbm"
      ]
    },
    {
      "cell_type": "code",
      "execution_count": 41,
      "metadata": {
        "colab": {
          "base_uri": "https://localhost:8080/"
        },
        "editable": true,
        "execution": {
          "iopub.execute_input": "2024-11-05T10:22:18.749596Z",
          "iopub.status.busy": "2024-11-05T10:22:18.748673Z",
          "iopub.status.idle": "2024-11-05T10:22:20.148895Z",
          "shell.execute_reply": "2024-11-05T10:22:20.146623Z",
          "shell.execute_reply.started": "2024-11-05T10:22:18.749500Z"
        },
        "id": "dc0XGsKrKN3O",
        "outputId": "14b4b6c2-5786-435f-bbc0-7d8aaf5d05bb",
        "pycharm": {
          "is_executing": true,
          "name": "#%%\n"
        },
        "tags": [
          "ex"
        ]
      },
      "outputs": [
        {
          "output_type": "stream",
          "name": "stdout",
          "text": [
            "[LightGBM] [Info] Number of positive: 8006, number of negative: 8006\n",
            "[LightGBM] [Info] Auto-choosing col-wise multi-threading, the overhead of testing was 0.109485 seconds.\n",
            "You can set `force_col_wise=true` to remove the overhead.\n",
            "[LightGBM] [Info] Total Bins 16065\n",
            "[LightGBM] [Info] Number of data points in the train set: 16012, number of used features: 63\n",
            "[LightGBM] [Info] [binary:BoostFromScore]: pavg=0.500000 -> initscore=0.000000\n"
          ]
        }
      ],
      "source": [
        "# your_code\n",
        "import lightgbm as lgb\n",
        "\n",
        "#importance_type = \"gain\" allows checking out which features was the most important\n",
        "lgb_classifier = lgb.LGBMClassifier(importance_type=\"gain\", random_state=0, n_jobs=-1)\n",
        "\n",
        "lgb_classifier.fit(X_resampled, y_resampled)\n",
        "\n",
        "y_pred = lgb_classifier.predict_proba(X_test)[:,1]\n",
        "\n",
        "auroc = roc_auc_score(y_test, y_pred)\n",
        "\n"
      ]
    },
    {
      "cell_type": "code",
      "execution_count": 42,
      "metadata": {
        "colab": {
          "base_uri": "https://localhost:8080/"
        },
        "editable": true,
        "execution": {
          "iopub.execute_input": "2024-11-05T10:22:20.150421Z",
          "iopub.status.busy": "2024-11-05T10:22:20.149600Z",
          "iopub.status.idle": "2024-11-05T10:22:20.157188Z",
          "shell.execute_reply": "2024-11-05T10:22:20.155598Z",
          "shell.execute_reply.started": "2024-11-05T10:22:20.150395Z"
        },
        "id": "6_Dam-lSKN3P",
        "outputId": "4715feae-3718-4e5a-b5ea-16ee0696cfb3",
        "tags": [
          "ex"
        ]
      },
      "outputs": [
        {
          "output_type": "stream",
          "name": "stdout",
          "text": [
            "Solution is correct!\n"
          ]
        }
      ],
      "source": [
        "assert 0.9 <= auroc <= 0.97\n",
        "\n",
        "print(\"Solution is correct!\")"
      ]
    },
    {
      "cell_type": "markdown",
      "metadata": {
        "id": "wWEXPHJCMagT"
      },
      "source": [
        "//skomentuj tutaj\n",
        "\n",
        "lightgbm radzi sobie lepiej niż las drzew losowych bez optymalizacji przez dobieranie hiperparametrów ale gorzej niż z dobranym hiperparametrem max_features, jednak oszczędza czas a różnica to jedynie 4% więc jest to dobre rozwiązanie."
      ]
    },
    {
      "cell_type": "markdown",
      "metadata": {
        "editable": true,
        "id": "UcmWxf-hKN3P",
        "pycharm": {
          "name": "#%% md\n"
        },
        "tags": []
      },
      "source": [
        "Boosting dzięki uczeniu na poprzednich drzewach redukuje nie tylko wariancję, ale też bias w błędzie, dzięki czemu może w wielu przypadkach osiągnąć lepsze rezultaty od lasu losowego. Do tego dzięki znakomitej implementacji LightGBM jest szybszy.\n",
        "\n",
        "Boosting jest jednak o wiele bardziej czuły na hiperparametry niż Random Forest. W szczególności bardzo łatwo go przeuczyć, a większość hiperparametrów, których jest dużo, wiąże się z regularyzacją modelu. To, że teraz poszło nam lepiej z domyślnymi, jest rzadkim przypadkiem.\n",
        "\n",
        "W związku z tym, że przestrzeń hiperparametrów jest duża, przeszukanie wszystkich kombinacji nie wchodzi w grę. Zamiast tego można wylosować zadaną liczbę zestawów hiperparametrów i tylko je sprawdzić - chociaż im więcej, tym lepsze wyniki powinniśmy dostać. Służy do tego `RandomizedSearchCV`. Co więcej, klasa ta potrafi próbkować rozkłady prawdopodobieństwa, a nie tylko sztywne listy wartości, co jest bardzo przydatne przy parametrach ciągłych.\n",
        "\n",
        "Hiperparametry LightGBMa są dobrze opisane w oficjalnej dokumentacji: [wersja krótsza](https://lightgbm.readthedocs.io/en/latest/pythonapi/lightgbm.LGBMClassifier.html#lightgbm.LGBMClassifier) i [wersja dłuższa](https://lightgbm.readthedocs.io/en/latest/Parameters.html). Jest ich dużo, więc nie będziemy ich tutaj omawiać. Jeżeli chodzi o ich dostrajanie w praktyce, to przydatny jest [oficjalny przewodnik](https://lightgbm.readthedocs.io/en/latest/Parameters-Tuning.html) oraz dyskusje na Kaggle."
      ]
    },
    {
      "cell_type": "markdown",
      "metadata": {
        "editable": true,
        "id": "5i4iAMEtKN3P",
        "tags": [
          "ex"
        ]
      },
      "source": [
        "### Zadanie 8 (1.5 punktu)"
      ]
    },
    {
      "cell_type": "markdown",
      "metadata": {
        "editable": true,
        "id": "8kESPD2QKN3P",
        "tags": [
          "ex"
        ]
      },
      "source": [
        "1. Zaimplementuj random search dla LightGBMa (klasa `RandomizedSearchCV`):\n",
        "   - użyj tylu prób, na ile pozwalają twoje zasoby obliczeniowe, ale przynajmniej 30,\n",
        "   - przeszukaj przestrzeń hiperparametrów:\n",
        "    ```\n",
        "    param_grid = {\n",
        "        \"n_estimators\": [100, 250, 500],\n",
        "        \"learning_rate\": [0.05, 0.1, 0.2],\n",
        "        \"num_leaves\": [31, 48, 64],\n",
        "        \"colsample_bytree\": [0.8, 0.9, 1.0],\n",
        "        \"subsample\": [0.8, 0.9, 1.0],\n",
        "    }\n",
        "    ```\n",
        "2. Wypisz znalezione optymalne hiperparametry.\n",
        "3. Wypisz raporty z klasyfikacji (funkcja `classification_report`), dla modelu LightGBM bez i z dostrajaniem hiperparametrów.\n",
        "4. Skomentuj różnicę precyzji (precision) i czułości (recall) między modelami bez i z dostrajaniem hiperparametrów. Czy jest to pożądane zjawisko w tym przypadku?\n",
        "5. Wartość ROC przypisz do zmiennej `auroc`.\n",
        "\n",
        "**Uwaga:**\n",
        "- koniecznie ustaw `verbose=-1` przy tworzeniu `LGBMClassifier`, żeby uniknąć kolosalnej ilości logów, która potrafi też wyłączyć Jupytera\n",
        "- pamiętaj o ustawieniu `importance_type`, `random_state=0` i `n_jobs`, oraz ewentualnie `verbose` w `RandomizedSearchCV` dla śledzenia przebiegu\n",
        "- istnieje możliwość, że ustawienie `n_jobs` dla grid searcha będzie szybsze niż dla samego LightGBM; odpowiada to tuningowi wielu klasyfikatorów równolegle, przy wolniejszym treningu pojedynczych klasyfikatorów\n",
        "- nie ustawiaj wszędzie `n_jobs=-1`, bo wtedy stworzysz więcej procesów niż rdzeni i spowodujesz thread contention"
      ]
    },
    {
      "cell_type": "markdown",
      "source": [
        "> Zrobiłem poniższe zadanie dla n_iter = 5, bo próbowałem dwa razy dla n_iter = 30 ale po czekaniu ponad 2h i rozłączeniu raz na colabie się poddałem..."
      ],
      "metadata": {
        "id": "bVMDS2iGu9-x"
      }
    },
    {
      "cell_type": "code",
      "execution_count": 47,
      "metadata": {
        "editable": true,
        "execution": {
          "execution_failed": "2024-11-05T12:43:50.903Z",
          "iopub.execute_input": "2024-11-05T10:22:20.160934Z",
          "iopub.status.busy": "2024-11-05T10:22:20.159415Z"
        },
        "id": "-h5X2eMSKN3P",
        "pycharm": {
          "is_executing": true,
          "name": "#%%\n"
        },
        "tags": [
          "ex"
        ],
        "colab": {
          "base_uri": "https://localhost:8080/",
          "height": 671
        },
        "outputId": "11d2dc56-2d5d-47dc-cbdc-53dcbec9d224"
      },
      "outputs": [
        {
          "output_type": "stream",
          "name": "stdout",
          "text": [
            "Fitting 5 folds for each of 5 candidates, totalling 25 fits\n",
            "[CV] END colsample_bytree=0.9, learning_rate=0.1, n_estimators=100, num_leaves=31, subsample=1.0; total time=  27.9s\n",
            "[CV] END colsample_bytree=0.9, learning_rate=0.1, n_estimators=100, num_leaves=31, subsample=1.0; total time=   0.4s\n",
            "[CV] END colsample_bytree=0.9, learning_rate=0.1, n_estimators=100, num_leaves=31, subsample=1.0; total time=   0.4s\n",
            "[CV] END colsample_bytree=0.9, learning_rate=0.1, n_estimators=100, num_leaves=31, subsample=1.0; total time=   0.4s\n",
            "[CV] END colsample_bytree=0.9, learning_rate=0.1, n_estimators=100, num_leaves=31, subsample=1.0; total time=   0.3s\n",
            "[CV] END colsample_bytree=0.9, learning_rate=0.2, n_estimators=250, num_leaves=64, subsample=0.8; total time=   1.1s\n",
            "[CV] END colsample_bytree=0.9, learning_rate=0.2, n_estimators=250, num_leaves=64, subsample=0.8; total time=   1.1s\n",
            "[CV] END colsample_bytree=0.9, learning_rate=0.2, n_estimators=250, num_leaves=64, subsample=0.8; total time=   1.2s\n",
            "[CV] END colsample_bytree=0.9, learning_rate=0.2, n_estimators=250, num_leaves=64, subsample=0.8; total time=   1.3s\n",
            "[CV] END colsample_bytree=0.9, learning_rate=0.2, n_estimators=250, num_leaves=64, subsample=0.8; total time=   1.3s\n",
            "[CV] END colsample_bytree=0.8, learning_rate=0.1, n_estimators=250, num_leaves=31, subsample=0.9; total time=   0.9s\n",
            "[CV] END colsample_bytree=0.8, learning_rate=0.1, n_estimators=250, num_leaves=31, subsample=0.9; total time=   0.9s\n",
            "[CV] END colsample_bytree=0.8, learning_rate=0.1, n_estimators=250, num_leaves=31, subsample=0.9; total time=   0.9s\n",
            "[CV] END colsample_bytree=0.8, learning_rate=0.1, n_estimators=250, num_leaves=31, subsample=0.9; total time=   0.9s\n",
            "[CV] END colsample_bytree=0.8, learning_rate=0.1, n_estimators=250, num_leaves=31, subsample=0.9; total time=   0.9s\n",
            "[CV] END colsample_bytree=0.8, learning_rate=0.2, n_estimators=500, num_leaves=48, subsample=0.8; total time=   1.5s\n",
            "[CV] END colsample_bytree=0.8, learning_rate=0.2, n_estimators=500, num_leaves=48, subsample=0.8; total time=   1.5s\n",
            "[CV] END colsample_bytree=0.8, learning_rate=0.2, n_estimators=500, num_leaves=48, subsample=0.8; total time=   1.6s\n",
            "[CV] END colsample_bytree=0.8, learning_rate=0.2, n_estimators=500, num_leaves=48, subsample=0.8; total time=   1.6s\n",
            "[CV] END colsample_bytree=0.8, learning_rate=0.2, n_estimators=500, num_leaves=48, subsample=0.8; total time=   1.6s\n",
            "[CV] END colsample_bytree=0.9, learning_rate=0.1, n_estimators=100, num_leaves=31, subsample=0.9; total time=   0.4s\n",
            "[CV] END colsample_bytree=0.9, learning_rate=0.1, n_estimators=100, num_leaves=31, subsample=0.9; total time=   0.4s\n",
            "[CV] END colsample_bytree=0.9, learning_rate=0.1, n_estimators=100, num_leaves=31, subsample=0.9; total time=   0.4s\n",
            "[CV] END colsample_bytree=0.9, learning_rate=0.1, n_estimators=100, num_leaves=31, subsample=0.9; total time=   0.4s\n",
            "[CV] END colsample_bytree=0.9, learning_rate=0.1, n_estimators=100, num_leaves=31, subsample=0.9; total time=   0.4s\n"
          ]
        },
        {
          "output_type": "execute_result",
          "data": {
            "text/plain": [
              "RandomizedSearchCV(estimator=LGBMClassifier(importance_type='gain',\n",
              "                                            random_state=0, verbose=-1),\n",
              "                   n_iter=5,\n",
              "                   param_distributions={'colsample_bytree': [0.8, 0.9, 1.0],\n",
              "                                        'learning_rate': [0.05, 0.1, 0.2],\n",
              "                                        'n_estimators': [100, 250, 500],\n",
              "                                        'num_leaves': [31, 48, 64],\n",
              "                                        'subsample': [0.8, 0.9, 1.0]},\n",
              "                   random_state=0, verbose=2)"
            ],
            "text/html": [
              "<style>#sk-container-id-1 {\n",
              "  /* Definition of color scheme common for light and dark mode */\n",
              "  --sklearn-color-text: black;\n",
              "  --sklearn-color-line: gray;\n",
              "  /* Definition of color scheme for unfitted estimators */\n",
              "  --sklearn-color-unfitted-level-0: #fff5e6;\n",
              "  --sklearn-color-unfitted-level-1: #f6e4d2;\n",
              "  --sklearn-color-unfitted-level-2: #ffe0b3;\n",
              "  --sklearn-color-unfitted-level-3: chocolate;\n",
              "  /* Definition of color scheme for fitted estimators */\n",
              "  --sklearn-color-fitted-level-0: #f0f8ff;\n",
              "  --sklearn-color-fitted-level-1: #d4ebff;\n",
              "  --sklearn-color-fitted-level-2: #b3dbfd;\n",
              "  --sklearn-color-fitted-level-3: cornflowerblue;\n",
              "\n",
              "  /* Specific color for light theme */\n",
              "  --sklearn-color-text-on-default-background: var(--sg-text-color, var(--theme-code-foreground, var(--jp-content-font-color1, black)));\n",
              "  --sklearn-color-background: var(--sg-background-color, var(--theme-background, var(--jp-layout-color0, white)));\n",
              "  --sklearn-color-border-box: var(--sg-text-color, var(--theme-code-foreground, var(--jp-content-font-color1, black)));\n",
              "  --sklearn-color-icon: #696969;\n",
              "\n",
              "  @media (prefers-color-scheme: dark) {\n",
              "    /* Redefinition of color scheme for dark theme */\n",
              "    --sklearn-color-text-on-default-background: var(--sg-text-color, var(--theme-code-foreground, var(--jp-content-font-color1, white)));\n",
              "    --sklearn-color-background: var(--sg-background-color, var(--theme-background, var(--jp-layout-color0, #111)));\n",
              "    --sklearn-color-border-box: var(--sg-text-color, var(--theme-code-foreground, var(--jp-content-font-color1, white)));\n",
              "    --sklearn-color-icon: #878787;\n",
              "  }\n",
              "}\n",
              "\n",
              "#sk-container-id-1 {\n",
              "  color: var(--sklearn-color-text);\n",
              "}\n",
              "\n",
              "#sk-container-id-1 pre {\n",
              "  padding: 0;\n",
              "}\n",
              "\n",
              "#sk-container-id-1 input.sk-hidden--visually {\n",
              "  border: 0;\n",
              "  clip: rect(1px 1px 1px 1px);\n",
              "  clip: rect(1px, 1px, 1px, 1px);\n",
              "  height: 1px;\n",
              "  margin: -1px;\n",
              "  overflow: hidden;\n",
              "  padding: 0;\n",
              "  position: absolute;\n",
              "  width: 1px;\n",
              "}\n",
              "\n",
              "#sk-container-id-1 div.sk-dashed-wrapped {\n",
              "  border: 1px dashed var(--sklearn-color-line);\n",
              "  margin: 0 0.4em 0.5em 0.4em;\n",
              "  box-sizing: border-box;\n",
              "  padding-bottom: 0.4em;\n",
              "  background-color: var(--sklearn-color-background);\n",
              "}\n",
              "\n",
              "#sk-container-id-1 div.sk-container {\n",
              "  /* jupyter's `normalize.less` sets `[hidden] { display: none; }`\n",
              "     but bootstrap.min.css set `[hidden] { display: none !important; }`\n",
              "     so we also need the `!important` here to be able to override the\n",
              "     default hidden behavior on the sphinx rendered scikit-learn.org.\n",
              "     See: https://github.com/scikit-learn/scikit-learn/issues/21755 */\n",
              "  display: inline-block !important;\n",
              "  position: relative;\n",
              "}\n",
              "\n",
              "#sk-container-id-1 div.sk-text-repr-fallback {\n",
              "  display: none;\n",
              "}\n",
              "\n",
              "div.sk-parallel-item,\n",
              "div.sk-serial,\n",
              "div.sk-item {\n",
              "  /* draw centered vertical line to link estimators */\n",
              "  background-image: linear-gradient(var(--sklearn-color-text-on-default-background), var(--sklearn-color-text-on-default-background));\n",
              "  background-size: 2px 100%;\n",
              "  background-repeat: no-repeat;\n",
              "  background-position: center center;\n",
              "}\n",
              "\n",
              "/* Parallel-specific style estimator block */\n",
              "\n",
              "#sk-container-id-1 div.sk-parallel-item::after {\n",
              "  content: \"\";\n",
              "  width: 100%;\n",
              "  border-bottom: 2px solid var(--sklearn-color-text-on-default-background);\n",
              "  flex-grow: 1;\n",
              "}\n",
              "\n",
              "#sk-container-id-1 div.sk-parallel {\n",
              "  display: flex;\n",
              "  align-items: stretch;\n",
              "  justify-content: center;\n",
              "  background-color: var(--sklearn-color-background);\n",
              "  position: relative;\n",
              "}\n",
              "\n",
              "#sk-container-id-1 div.sk-parallel-item {\n",
              "  display: flex;\n",
              "  flex-direction: column;\n",
              "}\n",
              "\n",
              "#sk-container-id-1 div.sk-parallel-item:first-child::after {\n",
              "  align-self: flex-end;\n",
              "  width: 50%;\n",
              "}\n",
              "\n",
              "#sk-container-id-1 div.sk-parallel-item:last-child::after {\n",
              "  align-self: flex-start;\n",
              "  width: 50%;\n",
              "}\n",
              "\n",
              "#sk-container-id-1 div.sk-parallel-item:only-child::after {\n",
              "  width: 0;\n",
              "}\n",
              "\n",
              "/* Serial-specific style estimator block */\n",
              "\n",
              "#sk-container-id-1 div.sk-serial {\n",
              "  display: flex;\n",
              "  flex-direction: column;\n",
              "  align-items: center;\n",
              "  background-color: var(--sklearn-color-background);\n",
              "  padding-right: 1em;\n",
              "  padding-left: 1em;\n",
              "}\n",
              "\n",
              "\n",
              "/* Toggleable style: style used for estimator/Pipeline/ColumnTransformer box that is\n",
              "clickable and can be expanded/collapsed.\n",
              "- Pipeline and ColumnTransformer use this feature and define the default style\n",
              "- Estimators will overwrite some part of the style using the `sk-estimator` class\n",
              "*/\n",
              "\n",
              "/* Pipeline and ColumnTransformer style (default) */\n",
              "\n",
              "#sk-container-id-1 div.sk-toggleable {\n",
              "  /* Default theme specific background. It is overwritten whether we have a\n",
              "  specific estimator or a Pipeline/ColumnTransformer */\n",
              "  background-color: var(--sklearn-color-background);\n",
              "}\n",
              "\n",
              "/* Toggleable label */\n",
              "#sk-container-id-1 label.sk-toggleable__label {\n",
              "  cursor: pointer;\n",
              "  display: block;\n",
              "  width: 100%;\n",
              "  margin-bottom: 0;\n",
              "  padding: 0.5em;\n",
              "  box-sizing: border-box;\n",
              "  text-align: center;\n",
              "}\n",
              "\n",
              "#sk-container-id-1 label.sk-toggleable__label-arrow:before {\n",
              "  /* Arrow on the left of the label */\n",
              "  content: \"▸\";\n",
              "  float: left;\n",
              "  margin-right: 0.25em;\n",
              "  color: var(--sklearn-color-icon);\n",
              "}\n",
              "\n",
              "#sk-container-id-1 label.sk-toggleable__label-arrow:hover:before {\n",
              "  color: var(--sklearn-color-text);\n",
              "}\n",
              "\n",
              "/* Toggleable content - dropdown */\n",
              "\n",
              "#sk-container-id-1 div.sk-toggleable__content {\n",
              "  max-height: 0;\n",
              "  max-width: 0;\n",
              "  overflow: hidden;\n",
              "  text-align: left;\n",
              "  /* unfitted */\n",
              "  background-color: var(--sklearn-color-unfitted-level-0);\n",
              "}\n",
              "\n",
              "#sk-container-id-1 div.sk-toggleable__content.fitted {\n",
              "  /* fitted */\n",
              "  background-color: var(--sklearn-color-fitted-level-0);\n",
              "}\n",
              "\n",
              "#sk-container-id-1 div.sk-toggleable__content pre {\n",
              "  margin: 0.2em;\n",
              "  border-radius: 0.25em;\n",
              "  color: var(--sklearn-color-text);\n",
              "  /* unfitted */\n",
              "  background-color: var(--sklearn-color-unfitted-level-0);\n",
              "}\n",
              "\n",
              "#sk-container-id-1 div.sk-toggleable__content.fitted pre {\n",
              "  /* unfitted */\n",
              "  background-color: var(--sklearn-color-fitted-level-0);\n",
              "}\n",
              "\n",
              "#sk-container-id-1 input.sk-toggleable__control:checked~div.sk-toggleable__content {\n",
              "  /* Expand drop-down */\n",
              "  max-height: 200px;\n",
              "  max-width: 100%;\n",
              "  overflow: auto;\n",
              "}\n",
              "\n",
              "#sk-container-id-1 input.sk-toggleable__control:checked~label.sk-toggleable__label-arrow:before {\n",
              "  content: \"▾\";\n",
              "}\n",
              "\n",
              "/* Pipeline/ColumnTransformer-specific style */\n",
              "\n",
              "#sk-container-id-1 div.sk-label input.sk-toggleable__control:checked~label.sk-toggleable__label {\n",
              "  color: var(--sklearn-color-text);\n",
              "  background-color: var(--sklearn-color-unfitted-level-2);\n",
              "}\n",
              "\n",
              "#sk-container-id-1 div.sk-label.fitted input.sk-toggleable__control:checked~label.sk-toggleable__label {\n",
              "  background-color: var(--sklearn-color-fitted-level-2);\n",
              "}\n",
              "\n",
              "/* Estimator-specific style */\n",
              "\n",
              "/* Colorize estimator box */\n",
              "#sk-container-id-1 div.sk-estimator input.sk-toggleable__control:checked~label.sk-toggleable__label {\n",
              "  /* unfitted */\n",
              "  background-color: var(--sklearn-color-unfitted-level-2);\n",
              "}\n",
              "\n",
              "#sk-container-id-1 div.sk-estimator.fitted input.sk-toggleable__control:checked~label.sk-toggleable__label {\n",
              "  /* fitted */\n",
              "  background-color: var(--sklearn-color-fitted-level-2);\n",
              "}\n",
              "\n",
              "#sk-container-id-1 div.sk-label label.sk-toggleable__label,\n",
              "#sk-container-id-1 div.sk-label label {\n",
              "  /* The background is the default theme color */\n",
              "  color: var(--sklearn-color-text-on-default-background);\n",
              "}\n",
              "\n",
              "/* On hover, darken the color of the background */\n",
              "#sk-container-id-1 div.sk-label:hover label.sk-toggleable__label {\n",
              "  color: var(--sklearn-color-text);\n",
              "  background-color: var(--sklearn-color-unfitted-level-2);\n",
              "}\n",
              "\n",
              "/* Label box, darken color on hover, fitted */\n",
              "#sk-container-id-1 div.sk-label.fitted:hover label.sk-toggleable__label.fitted {\n",
              "  color: var(--sklearn-color-text);\n",
              "  background-color: var(--sklearn-color-fitted-level-2);\n",
              "}\n",
              "\n",
              "/* Estimator label */\n",
              "\n",
              "#sk-container-id-1 div.sk-label label {\n",
              "  font-family: monospace;\n",
              "  font-weight: bold;\n",
              "  display: inline-block;\n",
              "  line-height: 1.2em;\n",
              "}\n",
              "\n",
              "#sk-container-id-1 div.sk-label-container {\n",
              "  text-align: center;\n",
              "}\n",
              "\n",
              "/* Estimator-specific */\n",
              "#sk-container-id-1 div.sk-estimator {\n",
              "  font-family: monospace;\n",
              "  border: 1px dotted var(--sklearn-color-border-box);\n",
              "  border-radius: 0.25em;\n",
              "  box-sizing: border-box;\n",
              "  margin-bottom: 0.5em;\n",
              "  /* unfitted */\n",
              "  background-color: var(--sklearn-color-unfitted-level-0);\n",
              "}\n",
              "\n",
              "#sk-container-id-1 div.sk-estimator.fitted {\n",
              "  /* fitted */\n",
              "  background-color: var(--sklearn-color-fitted-level-0);\n",
              "}\n",
              "\n",
              "/* on hover */\n",
              "#sk-container-id-1 div.sk-estimator:hover {\n",
              "  /* unfitted */\n",
              "  background-color: var(--sklearn-color-unfitted-level-2);\n",
              "}\n",
              "\n",
              "#sk-container-id-1 div.sk-estimator.fitted:hover {\n",
              "  /* fitted */\n",
              "  background-color: var(--sklearn-color-fitted-level-2);\n",
              "}\n",
              "\n",
              "/* Specification for estimator info (e.g. \"i\" and \"?\") */\n",
              "\n",
              "/* Common style for \"i\" and \"?\" */\n",
              "\n",
              ".sk-estimator-doc-link,\n",
              "a:link.sk-estimator-doc-link,\n",
              "a:visited.sk-estimator-doc-link {\n",
              "  float: right;\n",
              "  font-size: smaller;\n",
              "  line-height: 1em;\n",
              "  font-family: monospace;\n",
              "  background-color: var(--sklearn-color-background);\n",
              "  border-radius: 1em;\n",
              "  height: 1em;\n",
              "  width: 1em;\n",
              "  text-decoration: none !important;\n",
              "  margin-left: 1ex;\n",
              "  /* unfitted */\n",
              "  border: var(--sklearn-color-unfitted-level-1) 1pt solid;\n",
              "  color: var(--sklearn-color-unfitted-level-1);\n",
              "}\n",
              "\n",
              ".sk-estimator-doc-link.fitted,\n",
              "a:link.sk-estimator-doc-link.fitted,\n",
              "a:visited.sk-estimator-doc-link.fitted {\n",
              "  /* fitted */\n",
              "  border: var(--sklearn-color-fitted-level-1) 1pt solid;\n",
              "  color: var(--sklearn-color-fitted-level-1);\n",
              "}\n",
              "\n",
              "/* On hover */\n",
              "div.sk-estimator:hover .sk-estimator-doc-link:hover,\n",
              ".sk-estimator-doc-link:hover,\n",
              "div.sk-label-container:hover .sk-estimator-doc-link:hover,\n",
              ".sk-estimator-doc-link:hover {\n",
              "  /* unfitted */\n",
              "  background-color: var(--sklearn-color-unfitted-level-3);\n",
              "  color: var(--sklearn-color-background);\n",
              "  text-decoration: none;\n",
              "}\n",
              "\n",
              "div.sk-estimator.fitted:hover .sk-estimator-doc-link.fitted:hover,\n",
              ".sk-estimator-doc-link.fitted:hover,\n",
              "div.sk-label-container:hover .sk-estimator-doc-link.fitted:hover,\n",
              ".sk-estimator-doc-link.fitted:hover {\n",
              "  /* fitted */\n",
              "  background-color: var(--sklearn-color-fitted-level-3);\n",
              "  color: var(--sklearn-color-background);\n",
              "  text-decoration: none;\n",
              "}\n",
              "\n",
              "/* Span, style for the box shown on hovering the info icon */\n",
              ".sk-estimator-doc-link span {\n",
              "  display: none;\n",
              "  z-index: 9999;\n",
              "  position: relative;\n",
              "  font-weight: normal;\n",
              "  right: .2ex;\n",
              "  padding: .5ex;\n",
              "  margin: .5ex;\n",
              "  width: min-content;\n",
              "  min-width: 20ex;\n",
              "  max-width: 50ex;\n",
              "  color: var(--sklearn-color-text);\n",
              "  box-shadow: 2pt 2pt 4pt #999;\n",
              "  /* unfitted */\n",
              "  background: var(--sklearn-color-unfitted-level-0);\n",
              "  border: .5pt solid var(--sklearn-color-unfitted-level-3);\n",
              "}\n",
              "\n",
              ".sk-estimator-doc-link.fitted span {\n",
              "  /* fitted */\n",
              "  background: var(--sklearn-color-fitted-level-0);\n",
              "  border: var(--sklearn-color-fitted-level-3);\n",
              "}\n",
              "\n",
              ".sk-estimator-doc-link:hover span {\n",
              "  display: block;\n",
              "}\n",
              "\n",
              "/* \"?\"-specific style due to the `<a>` HTML tag */\n",
              "\n",
              "#sk-container-id-1 a.estimator_doc_link {\n",
              "  float: right;\n",
              "  font-size: 1rem;\n",
              "  line-height: 1em;\n",
              "  font-family: monospace;\n",
              "  background-color: var(--sklearn-color-background);\n",
              "  border-radius: 1rem;\n",
              "  height: 1rem;\n",
              "  width: 1rem;\n",
              "  text-decoration: none;\n",
              "  /* unfitted */\n",
              "  color: var(--sklearn-color-unfitted-level-1);\n",
              "  border: var(--sklearn-color-unfitted-level-1) 1pt solid;\n",
              "}\n",
              "\n",
              "#sk-container-id-1 a.estimator_doc_link.fitted {\n",
              "  /* fitted */\n",
              "  border: var(--sklearn-color-fitted-level-1) 1pt solid;\n",
              "  color: var(--sklearn-color-fitted-level-1);\n",
              "}\n",
              "\n",
              "/* On hover */\n",
              "#sk-container-id-1 a.estimator_doc_link:hover {\n",
              "  /* unfitted */\n",
              "  background-color: var(--sklearn-color-unfitted-level-3);\n",
              "  color: var(--sklearn-color-background);\n",
              "  text-decoration: none;\n",
              "}\n",
              "\n",
              "#sk-container-id-1 a.estimator_doc_link.fitted:hover {\n",
              "  /* fitted */\n",
              "  background-color: var(--sklearn-color-fitted-level-3);\n",
              "}\n",
              "</style><div id=\"sk-container-id-1\" class=\"sk-top-container\"><div class=\"sk-text-repr-fallback\"><pre>RandomizedSearchCV(estimator=LGBMClassifier(importance_type=&#x27;gain&#x27;,\n",
              "                                            random_state=0, verbose=-1),\n",
              "                   n_iter=5,\n",
              "                   param_distributions={&#x27;colsample_bytree&#x27;: [0.8, 0.9, 1.0],\n",
              "                                        &#x27;learning_rate&#x27;: [0.05, 0.1, 0.2],\n",
              "                                        &#x27;n_estimators&#x27;: [100, 250, 500],\n",
              "                                        &#x27;num_leaves&#x27;: [31, 48, 64],\n",
              "                                        &#x27;subsample&#x27;: [0.8, 0.9, 1.0]},\n",
              "                   random_state=0, verbose=2)</pre><b>In a Jupyter environment, please rerun this cell to show the HTML representation or trust the notebook. <br />On GitHub, the HTML representation is unable to render, please try loading this page with nbviewer.org.</b></div><div class=\"sk-container\" hidden><div class=\"sk-item sk-dashed-wrapped\"><div class=\"sk-label-container\"><div class=\"sk-label fitted sk-toggleable\"><input class=\"sk-toggleable__control sk-hidden--visually\" id=\"sk-estimator-id-1\" type=\"checkbox\" ><label for=\"sk-estimator-id-1\" class=\"sk-toggleable__label fitted sk-toggleable__label-arrow fitted\">&nbsp;&nbsp;RandomizedSearchCV<a class=\"sk-estimator-doc-link fitted\" rel=\"noreferrer\" target=\"_blank\" href=\"https://scikit-learn.org/1.5/modules/generated/sklearn.model_selection.RandomizedSearchCV.html\">?<span>Documentation for RandomizedSearchCV</span></a><span class=\"sk-estimator-doc-link fitted\">i<span>Fitted</span></span></label><div class=\"sk-toggleable__content fitted\"><pre>RandomizedSearchCV(estimator=LGBMClassifier(importance_type=&#x27;gain&#x27;,\n",
              "                                            random_state=0, verbose=-1),\n",
              "                   n_iter=5,\n",
              "                   param_distributions={&#x27;colsample_bytree&#x27;: [0.8, 0.9, 1.0],\n",
              "                                        &#x27;learning_rate&#x27;: [0.05, 0.1, 0.2],\n",
              "                                        &#x27;n_estimators&#x27;: [100, 250, 500],\n",
              "                                        &#x27;num_leaves&#x27;: [31, 48, 64],\n",
              "                                        &#x27;subsample&#x27;: [0.8, 0.9, 1.0]},\n",
              "                   random_state=0, verbose=2)</pre></div> </div></div><div class=\"sk-parallel\"><div class=\"sk-parallel-item\"><div class=\"sk-item\"><div class=\"sk-label-container\"><div class=\"sk-label fitted sk-toggleable\"><input class=\"sk-toggleable__control sk-hidden--visually\" id=\"sk-estimator-id-2\" type=\"checkbox\" ><label for=\"sk-estimator-id-2\" class=\"sk-toggleable__label fitted sk-toggleable__label-arrow fitted\">best_estimator_: LGBMClassifier</label><div class=\"sk-toggleable__content fitted\"><pre>LGBMClassifier(colsample_bytree=0.8, importance_type=&#x27;gain&#x27;, learning_rate=0.2,\n",
              "               n_estimators=500, num_leaves=48, random_state=0, subsample=0.8,\n",
              "               verbose=-1)</pre></div> </div></div><div class=\"sk-serial\"><div class=\"sk-item\"><div class=\"sk-estimator fitted sk-toggleable\"><input class=\"sk-toggleable__control sk-hidden--visually\" id=\"sk-estimator-id-3\" type=\"checkbox\" ><label for=\"sk-estimator-id-3\" class=\"sk-toggleable__label fitted sk-toggleable__label-arrow fitted\">LGBMClassifier</label><div class=\"sk-toggleable__content fitted\"><pre>LGBMClassifier(colsample_bytree=0.8, importance_type=&#x27;gain&#x27;, learning_rate=0.2,\n",
              "               n_estimators=500, num_leaves=48, random_state=0, subsample=0.8,\n",
              "               verbose=-1)</pre></div> </div></div></div></div></div></div></div></div></div>"
            ]
          },
          "metadata": {},
          "execution_count": 47
        }
      ],
      "source": [
        "# your_code\n",
        "from sklearn.model_selection import RandomizedSearchCV\n",
        "\n",
        "param_grid = {\n",
        "   \"n_estimators\": [100, 250, 500],\n",
        "   \"learning_rate\": [0.05, 0.1, 0.2],\n",
        "   \"num_leaves\": [31, 48, 64],\n",
        "   \"colsample_bytree\": [0.8, 0.9, 1.0],\n",
        "   \"subsample\": [0.8, 0.9, 1.0],\n",
        "}\n",
        "\n",
        "lgb_classifier_2 = lgb.LGBMClassifier(importance_type=\"gain\", random_state=0, verbose=-1)\n",
        "\n",
        "randomized_search = RandomizedSearchCV(estimator=lgb_classifier_2,param_distributions=param_grid, n_iter=5, random_state=0, verbose = 2)\n",
        "\n",
        "randomized_search.fit(X_resampled, y_resampled)\n"
      ]
    },
    {
      "cell_type": "markdown",
      "source": [],
      "metadata": {
        "id": "yKzCb-kkumZT"
      }
    },
    {
      "cell_type": "code",
      "execution_count": 48,
      "metadata": {
        "execution": {
          "execution_failed": "2024-11-05T12:43:50.912Z"
        },
        "id": "p1J1Ww1mQi_x",
        "colab": {
          "base_uri": "https://localhost:8080/"
        },
        "outputId": "60c322d8-10bc-4115-da2e-2565e0b42446"
      },
      "outputs": [
        {
          "output_type": "execute_result",
          "data": {
            "text/plain": [
              "{'subsample': 0.8,\n",
              " 'num_leaves': 48,\n",
              " 'n_estimators': 500,\n",
              " 'learning_rate': 0.2,\n",
              " 'colsample_bytree': 0.8}"
            ]
          },
          "metadata": {},
          "execution_count": 48
        }
      ],
      "source": [
        "# best hiperparameters\n",
        "randomized_search.best_params_"
      ]
    },
    {
      "cell_type": "code",
      "execution_count": 49,
      "metadata": {
        "execution": {
          "execution_failed": "2024-11-05T12:43:50.913Z"
        },
        "id": "wdnNdNTHTJ3s",
        "colab": {
          "base_uri": "https://localhost:8080/"
        },
        "outputId": "1c960473-2aec-4286-d6ca-f3118d168b0f"
      },
      "outputs": [
        {
          "output_type": "stream",
          "name": "stdout",
          "text": [
            "auroc:  0.946417219144492\n"
          ]
        }
      ],
      "source": [
        "# Prediction for the best model after tunning\n",
        "best_model = randomized_search.best_estimator_\n",
        "y_pred_tuned = best_model.predict_proba(X_test)[:, 1]\n",
        "auroc = roc_auc_score(y_test, y_pred_tuned)\n",
        "print(\"auroc: \", auroc)"
      ]
    },
    {
      "cell_type": "code",
      "execution_count": 51,
      "metadata": {
        "execution": {
          "execution_failed": "2024-11-05T12:43:50.913Z"
        },
        "id": "zmTLt93GS7Je",
        "colab": {
          "base_uri": "https://localhost:8080/",
          "height": 72
        },
        "outputId": "75c441cd-ff03-4c6b-ec1e-6ad8e925086a"
      },
      "outputs": [
        {
          "output_type": "execute_result",
          "data": {
            "text/plain": [
              "'              precision    recall  f1-score   support\\n\\n           0       0.98      0.98      0.98      2002\\n           1       0.60      0.60      0.60        99\\n\\n    accuracy                           0.96      2101\\n   macro avg       0.79      0.79      0.79      2101\\nweighted avg       0.96      0.96      0.96      2101\\n'"
            ],
            "application/vnd.google.colaboratory.intrinsic+json": {
              "type": "string"
            }
          },
          "metadata": {},
          "execution_count": 51
        }
      ],
      "source": [
        "from sklearn.metrics import classification_report\n",
        "lgb_classifier_2.fit(X_resampled, y_resampled)\n",
        "classification_report(y_test, lgb_classifier_2.predict(X_test))"
      ]
    },
    {
      "cell_type": "code",
      "execution_count": 52,
      "metadata": {
        "colab": {
          "base_uri": "https://localhost:8080/",
          "height": 72
        },
        "id": "mckQAkgfXscs",
        "outputId": "3536047f-47c1-4f1a-adf0-b7bb24cf3924"
      },
      "outputs": [
        {
          "output_type": "execute_result",
          "data": {
            "text/plain": [
              "'              precision    recall  f1-score   support\\n\\n           0       0.98      0.99      0.99      2002\\n           1       0.82      0.52      0.63        99\\n\\n    accuracy                           0.97      2101\\n   macro avg       0.90      0.75      0.81      2101\\nweighted avg       0.97      0.97      0.97      2101\\n'"
            ],
            "application/vnd.google.colaboratory.intrinsic+json": {
              "type": "string"
            }
          },
          "metadata": {},
          "execution_count": 52
        }
      ],
      "source": [
        "classification_report(y_test, best_model.predict(X_test))"
      ]
    },
    {
      "cell_type": "code",
      "execution_count": 53,
      "metadata": {
        "editable": true,
        "execution": {
          "execution_failed": "2024-11-05T12:43:50.913Z"
        },
        "id": "xf4osIcDKN3P",
        "tags": [
          "ex"
        ],
        "colab": {
          "base_uri": "https://localhost:8080/"
        },
        "outputId": "d4f31c9c-094d-4889-9b4e-ae3d2bda8814"
      },
      "outputs": [
        {
          "output_type": "stream",
          "name": "stdout",
          "text": [
            "Solution is correct!\n"
          ]
        }
      ],
      "source": [
        "assert 0.9 <= auroc <= 0.99\n",
        "\n",
        "print(\"Solution is correct!\")"
      ]
    },
    {
      "cell_type": "markdown",
      "metadata": {
        "editable": true,
        "id": "E2aIpnCbKN3P",
        "pycharm": {
          "name": "#%% md\n"
        },
        "tags": [
          "ex"
        ]
      },
      "source": [
        "// skomentuj tutaj"
      ]
    },
    {
      "cell_type": "markdown",
      "metadata": {
        "editable": true,
        "id": "5HuVYTy3KN3Q",
        "pycharm": {
          "name": "#%% md\n"
        },
        "tags": []
      },
      "source": [
        "**Boosting - podsumowanie**\n",
        "\n",
        "1. Model oparty o uczenie zespołowe.\n",
        "2. Kolejne modele są dodawane sekwencyjnie i uczą się na błędach poprzedników.\n",
        "3. Nauka typowo jest oparta o minimalizację funkcji kosztu (błędu), z użyciem spadku wzdłuż gradientu.\n",
        "4. Wiodący model klasyfikacji dla danych tabelarycznych, z 2 głównymi implementacjami: XGBoost i LightGBM.\n",
        "5. Liczne hiperparametry, wymagające odpowiednich metod dostrajania."
      ]
    },
    {
      "cell_type": "markdown",
      "metadata": {
        "editable": true,
        "id": "fAFfB0FzKN3Q",
        "pycharm": {
          "name": "#%% md\n"
        },
        "tags": []
      },
      "source": [
        "## Wyjaśnialna AI"
      ]
    },
    {
      "cell_type": "markdown",
      "metadata": {
        "editable": true,
        "id": "XvpLKczJKN3Q",
        "pycharm": {
          "name": "#%% md\n"
        },
        "tags": []
      },
      "source": [
        "W ostatnich latach zaczęto zwracać coraz większą uwagę na wpływ sztucznej inteligencji na społeczeństwo, a na niektórych czołowych konferencjach ML nawet obowiązkowa jest sekcja \"Social impact\" w artykułach naukowych. Typowo im lepszy model, tym bardziej złożony, a najpopularniejsze modele boostingu są z natury skomplikowane. Kiedy mają podejmować krytyczne decyzje, to musimy wiedzieć, czemu predykcja jest taka, a nie inna. Jest to poddziedzina uczenia maszynowego - **wyjaśnialna AI (explainable AI, XAI)**.\n",
        "\n",
        "Taka informacja jest cenna, bo dzięki temu lepiej wiemy, co robi model. Jest to ważne z kilku powodów:\n",
        "1. Wymogi prawne - wdrażanie algorytmów w ekonomii, prawie etc. ma coraz częściej konkretne wymagania prawne co do wyjaśnialności predykcji.\n",
        "2. Dodatkowa wiedza dla użytkowników - często dodatkowe obserwacje co do próbek są ciekawe same w sobie i dają wiedzę użytkownikowi (często posiadającemu specjalistyczną wiedzę z dziedziny), czasem nawet bardziej niż sam model predykcyjny.\n",
        "3. Analiza modelu - dodatkowa wiedza o wewnętrznym działaniu algorytmu pozwala go lepiej zrozumieć i ulepszyć wyniki, np. przez lepszy preprocessing danych.\n",
        "\n",
        "W szczególności można ją podzielić na **globalną** oraz **lokalną interpretowalność (global / local interpretability)**. Ta pierwsza próbuje wyjaśnić, czemu ogólnie model działa tak, jak działa. Analizuje strukturę modelu oraz trendy w jego predykcjach, aby podsumować w prostszy sposób jego tok myślenia. Interpretowalność lokalna z kolei dotyczy predykcji dla konkretnych próbek - czemu dla danego przykładu model podejmuje dla niego taką, a nie inną decyzję o klasyfikacji.\n",
        "\n",
        "W szczególności podstawowym sposobem interpretowalności jest **ważność cech (feature importance)**. Wyznacza ona, jak ważne są poszczególne cechy:\n",
        "- w wariancie globalnym, jak mocno model opiera się na poszczególnych cechach,\n",
        "- w wariancie lokalnym, jak mocno konkretne wartości cech wpłynęły na predykcję, i w jaki sposób.\n",
        "\n",
        "Teraz będzie nas interesować globalna ważność cech. Dla modeli drzewiastych definiuje się ją bardzo prosto. Każdy podział w drzewie decyzyjnym wykorzystuje jakąś cechę i redukuje z pomocą podziału funkcję kosztu (np. entropię) o określoną ilość. Dla drzewa decyzyjnego ważność to sumaryczna redukcja entropii, jaką udało się uzyskać za pomocą danej cechy. Dla lasów losowych i boostingu sumujemy te wartości dla wszystkich drzew. Alternatywnie można też użyć liczby splitów, w jakiej została użyta dana cecha, ale jest to mniej standardowe.\n",
        "\n",
        "Warto zauważyć, że taka ważność cech jest **względna**:\n",
        "- nie mówimy, jak bardzo ogólnie ważna jest jakaś cecha, tylko jak bardzo przydatna była dla naszego modelu w celu jego wytrenowania,\n",
        "- ważność cech można tylko porównywać ze sobą, np. jedna jest 2 razy ważniejsza od drugiej; nie ma ogólnych progów ważności.\n",
        "\n",
        "Ze względu na powyższe, ważności cech normalizuje się często do zakresu [0, 1] dla łatwiejszego porównywania."
      ]
    },
    {
      "cell_type": "markdown",
      "metadata": {
        "editable": true,
        "id": "mFDBVbASKN3Q",
        "tags": [
          "ex"
        ]
      },
      "source": [
        "### Zadanie 9 (0.5 punktu)"
      ]
    },
    {
      "cell_type": "markdown",
      "metadata": {
        "editable": true,
        "id": "FYh0Hg4nKN3Q",
        "tags": [
          "ex"
        ]
      },
      "source": [
        "1. Wybierz 5 najważniejszych cech dla drzewa decyzyjnego. Przedstaw wyniki na poziomym wykresie słupkowym. Użyj czytelnych nazw cech ze zmiennej `feature_names`.\n",
        "2. Powtórz powyższe dla lasu losowego, oraz dla boostingu (tutaj znormalizuj wyniki - patrz uwaga niżej). Wybierz te hiperparametry, które dały wcześniej najlepsze wyniki.\n",
        "3. Skomentuj, czy wybrane cechy twoim zdaniem mają sens jako najważniejsze cechy.\n",
        "\n",
        "**Uwaga:** Scikit-learn normalizuje ważności do zakresu [0, 1], natomiast LightGBM nie. Musisz to znormalizować samodzielnie, dzieląc przez sumę."
      ]
    },
    {
      "cell_type": "code",
      "execution_count": 55,
      "metadata": {
        "editable": true,
        "execution": {
          "execution_failed": "2024-11-05T12:43:50.914Z"
        },
        "id": "VDOaeoaPKN3Q",
        "tags": [
          "ex"
        ],
        "colab": {
          "base_uri": "https://localhost:8080/",
          "height": 1000
        },
        "outputId": "bc07119f-ae6d-42e6-9809-ef62aa5a33e3"
      },
      "outputs": [
        {
          "output_type": "display_data",
          "data": {
            "text/plain": [
              "<Figure size 1600x1000 with 3 Axes>"
            ],
            "image/png": "[encoded data removed]"
          },
          "metadata": {}
        }
      ],
      "source": [
        "# your_code\n",
        "tree_importance = [(index, value) for index, value in enumerate(decision_tree.feature_importances_)]\n",
        "forest_importance = [(index, value) for index, value in enumerate(random_forest.feature_importances_)]\n",
        "lgbmc_boosted_importance = [(index, value) for index, value in enumerate(randomized_search.best_estimator_.feature_importances_ / np.sum(randomized_search.best_estimator_.feature_importances_))]\n",
        "\n",
        "tree_importance.sort(key = lambda x: x[1], reverse=True)\n",
        "forest_importance.sort(key = lambda x: x[1], reverse=True)\n",
        "lgbmc_boosted_importance.sort(key = lambda x: x[1], reverse=True)\n",
        "\n",
        "fig, axs = plt.subplots(3, 1, figsize=(16, 10))\n",
        "def plot_feature_importance(ax, data, title):\n",
        "    domain = [feature_names[idx] for (idx, value) in data]\n",
        "    values = [value for (idx, value) in data]\n",
        "    ax.set_title(title)\n",
        "    ax.barh(domain, values)\n",
        "\n",
        "plot_feature_importance(axs[0], tree_importance[:5], \"Tree importance\")\n",
        "plot_feature_importance(axs[1], forest_importance[:5], \"Forest importance\")\n",
        "plot_feature_importance(axs[2], lgbmc_boosted_importance[:5], \"LGBMC Boosted importance\")\n",
        "plt.tight_layout()\n",
        "plt.show()\n"
      ]
    },
    {
      "cell_type": "markdown",
      "metadata": {
        "editable": true,
        "id": "w1gSg3GNKN3R",
        "tags": [
          "ex"
        ]
      },
      "source": [
        "// skomentuj tutaj"
      ]
    },
    {
      "cell_type": "markdown",
      "metadata": {
        "id": "UvJoJv4MKN3R"
      },
      "source": [
        "### Dla zainteresowanych\n",
        "\n",
        "Najpopularniejszym podejściem do interpretowalności lokalnych jest **SHAP (SHapley Additive exPlanations)**, metoda oparta o kooperatywną teorię gier. Traktuje się cechy modelu jak zbiór graczy, podzielonych na dwie drużyny (koalicje): jedna chce zaklasyfikować próbkę jako negatywną, a druga jako pozytywną. O ostatecznej decyzji decyduje model, który wykorzystuje te wartości cech. Powstaje pytanie - w jakim stopniu wartości cech przyczyniły się do wyniku swojej drużyny? Można to obliczyć jako wartości Shapleya (Shapley values), które dla modeli ML oblicza algorytm SHAP. Ma on bardzo znaczące, udowodnione matematycznie zalety, a dodatkowo posiada wyjątkowo efektywną implementację dla modeli drzewiastych oraz dobre wizualizacje.\n",
        "\n",
        "Bardzo intuicyjnie, na prostym przykładzie, SHAPa wyjaśnia [pierwsza część tego artykułu](https://iancovert.com/blog/understanding-shap-sage/). Dobrze i dość szczegółówo SHAPa wyjaśnia jego autor [w tym filmie](https://www.youtube.com/watch?v=-taOhqkiuIo)."
      ]
    },
    {
      "cell_type": "markdown",
      "metadata": {
        "id": "5zNHyClOKN3R",
        "pycharm": {
          "name": "#%% md\n"
        }
      },
      "source": [
        "**Wyjaśnialna AI - podsumowanie**\n",
        "\n",
        "1. Problem zrozumienia, jak wnioskuje model i czemu podejmuje określone decyzje.\n",
        "2. Ważne zarówno z perspektywy data badaczy danych, jak i użytkowników systemu.\n",
        "3. Można wyjaśniać model lokalnie (konkretne predykcje) lub globalnie (wpływ poszczególnych cech)."
      ]
    },
    {
      "cell_type": "markdown",
      "metadata": {
        "editable": true,
        "id": "40t9kLCbKN3R",
        "tags": [
          "ex"
        ]
      },
      "source": [
        "## Zadanie 10 dla chętnych (3 punkty)"
      ]
    },
    {
      "cell_type": "markdown",
      "metadata": {
        "editable": true,
        "id": "Nou5ojCSKN3R",
        "pycharm": {
          "name": "#%% md\n"
        },
        "tags": [
          "ex"
        ]
      },
      "source": [
        "Dokonaj selekcji cech, usuwając 20% najsłabszych cech. Może się tu przydać klasa `SelectPercentile`. Czy Random Forest i LightGBM (bez dostrajania hiperparametrów, dla uproszczenia) wytrenowane bez najsłabszych cech dają lepszy wynik (AUROC lub innej metryki)?\n",
        "\n",
        "Wykorzystaj po 1 algorytmie z 3 grup algorytmów selekcji cech:\n",
        "1. Filter methods - mierzymy ważność każdej cechy niezależnie, za pomocą pewnej miary (typowo ze statystyki lub teorii informacji), a potem odrzucamy (filtrujemy) te o najniższej ważności. Są to np. `chi2` i `mutual_info_classif` z pakietu `sklearn.feature_selection`.\n",
        "2. Embedded methods - klasyfikator sam zwraca ważność cech, jest jego wbudowaną cechą (stąd nazwa). Jest to w szczególności właściwość wszystkich zespołowych klasyfikatorów drzewiastych. Mają po wytrenowaniu atrybut `feature_importances_`.\n",
        "2. Wrapper methods - algorytmy wykorzystujące w środku używany model (stąd nazwa), mierzące ważność cech za pomocą ich wpływu na jakość klasyfikatora. Jest to np. recursive feature elimination (klasa `RFE`). W tym algorytmie trenujemy klasyfikator na wszystkich cechach, wyrzucamy najsłabszą, trenujemy znowu i tak dalej.\n",
        "\n",
        "Typowo metody filter są najszybsze, ale dają najsłabszy wynik, natomiast metody wrapper są najwolniejsze i dają najlepszy wynik. Metody embedded są gdzieś pośrodku.\n",
        "\n",
        "Dla zainteresowanych, inne znane i bardzo dobre algorytmy:\n",
        "- Relief (filter method) oraz warianty, szczególnie ReliefF, SURF i MultiSURF (biblioteka `ReBATE`): [Wikipedia](https://en.wikipedia.org/wiki/Relief_(feature_selection)), [artykuł \"Benchmarking Relief-Based Feature Selection Methods\"](https://www.researchgate.net/publication/321307194_Benchmarking_Relief-Based_Feature_Selection_Methods)\n",
        "- Boruta (wrapper method), stworzony na Uniwersytecie Warszawskim, łączący Random Forest oraz testy statystyczne (biblioteka `boruta_py`): [link 1](https://towardsdatascience.com/boruta-explained-the-way-i-wish-someone-explained-it-to-me-4489d70e154a), [link 2](https://danielhomola.com/feature%20selection/phd/borutapy-an-all-relevant-feature-selection-method/)"
      ]
    },
    {
      "cell_type": "code",
      "execution_count": null,
      "metadata": {
        "editable": true,
        "id": "cpQIjyXBKN3R",
        "pycharm": {
          "name": "#%%\n"
        },
        "tags": [
          "ex"
        ]
      },
      "outputs": [],
      "source": []
    }
  ],
  "metadata": {
    "accelerator": "TPU",
    "colab": {
      "gpuType": "V28",
      "provenance": [],
      "toc_visible": true
    },
    "jupytext": {
      "formats": "ipynb,py:percent"
    },
    "kernelspec": {
      "display_name": "Python 3 (ipykernel)",
      "language": "python",
      "name": "python3"
    },
    "language_info": {
      "codemirror_mode": {
        "name": "ipython",
        "version": 3
      },
      "file_extension": ".py",
      "mimetype": "text/x-python",
      "name": "python",
      "nbconvert_exporter": "python",
      "pygments_lexer": "ipython3",
      "version": "3.12.7"
    }
  },
  "nbformat": 4,
  "nbformat_minor": 0
}